{
  "cells": [
    {
      "cell_type": "markdown",
      "id": "2e484902",
      "metadata": {
        "id": "2e484902"
      },
      "source": [
        "<h1>PREDIÇÃO DO VALOR DO FRETE INTERNACIONAL EM UMA OPERAÇÃO DE IMPORTAÇÃO</h1>\n",
        "<hr>"
      ]
    },
    {
      "cell_type": "markdown",
      "id": "7daf9e9b",
      "metadata": {
        "id": "7daf9e9b"
      },
      "source": [
        "## Google Colab"
      ]
    },
    {
      "cell_type": "code",
      "execution_count": null,
      "id": "0cdb485d",
      "metadata": {
        "id": "0cdb485d",
        "colab": {
          "base_uri": "https://localhost:8080/"
        },
        "outputId": "dd4d5533-a46e-4dac-8485-fd27f324ef7b"
      },
      "outputs": [
        {
          "output_type": "stream",
          "name": "stdout",
          "text": [
            "Mounted at /content/drive\n"
          ]
        }
      ],
      "source": [
        "from google.colab import drive\n",
        "drive.mount('/content/drive', force_remount=True)"
      ]
    },
    {
      "cell_type": "markdown",
      "id": "10b6a98f",
      "metadata": {
        "id": "10b6a98f"
      },
      "source": [
        "### Bibliotecas"
      ]
    },
    {
      "cell_type": "code",
      "execution_count": null,
      "id": "53ea795b",
      "metadata": {
        "id": "53ea795b"
      },
      "outputs": [],
      "source": [
        "import pandas as pd\n",
        "import numpy as np\n",
        "\n",
        "import matplotlib.pyplot as plt\n",
        "import seaborn as sns\n",
        "\n",
        "from tqdm.notebook import tqdm\n",
        "import matplotlib.ticker as ticker\n",
        "import matplotlib.patches as mpatches\n",
        "from sklearn.metrics import median_absolute_error,r2_score\n",
        "\n",
        "import re"
      ]
    },
    {
      "cell_type": "markdown",
      "id": "3204fb49",
      "metadata": {
        "id": "3204fb49"
      },
      "source": [
        "## Coleta, Processamento e Tratamento dos dados\n",
        "---\n"
      ]
    },
    {
      "cell_type": "markdown",
      "id": "ff5cafff",
      "metadata": {
        "id": "ff5cafff"
      },
      "source": [
        "### Dados das Importações Brasileiras\n",
        "Link: [Ministério da Economia](https://balanca.economia.gov.br/balanca/bd/comexstat-bd/ncm/IMP_COMPLETA.zip)"
      ]
    },
    {
      "cell_type": "code",
      "execution_count": null,
      "id": "343dce01",
      "metadata": {
        "id": "343dce01",
        "scrolled": true
      },
      "outputs": [],
      "source": [
        "# Coletando os dados das importações Brasileiras e carregando no dataset df_importacao (Tópico 2 do TCC)\n",
        "df_importacao = pd.read_csv(\"/content/drive/MyDrive/IMP_COMPLETA.csv\",sep=';')"
      ]
    },
    {
      "cell_type": "code",
      "source": [
        "# Informações do dataset df_importacao (Tópico 2.1 do TCC)\n",
        "df_importacao.info()"
      ],
      "metadata": {
        "colab": {
          "base_uri": "https://localhost:8080/"
        },
        "id": "SDIbMrMxB8E4",
        "outputId": "5b3af125-7892-4700-be30-3a50dab581f4"
      },
      "id": "SDIbMrMxB8E4",
      "execution_count": null,
      "outputs": [
        {
          "output_type": "stream",
          "name": "stdout",
          "text": [
            "<class 'pandas.core.frame.DataFrame'>\n",
            "RangeIndex: 36389808 entries, 0 to 36389807\n",
            "Data columns (total 13 columns):\n",
            " #   Column      Dtype \n",
            "---  ------      ----- \n",
            " 0   CO_ANO      int64 \n",
            " 1   CO_MES      int64 \n",
            " 2   CO_NCM      int64 \n",
            " 3   CO_UNID     int64 \n",
            " 4   CO_PAIS     int64 \n",
            " 5   SG_UF_NCM   object\n",
            " 6   CO_VIA      int64 \n",
            " 7   CO_URF      int64 \n",
            " 8   QT_ESTAT    int64 \n",
            " 9   KG_LIQUIDO  int64 \n",
            " 10  VL_FOB      int64 \n",
            " 11  VL_FRETE    int64 \n",
            " 12  VL_SEGURO   int64 \n",
            "dtypes: int64(12), object(1)\n",
            "memory usage: 3.5+ GB\n"
          ]
        }
      ]
    },
    {
      "cell_type": "code",
      "source": [
        "# Filtrando dados dos últimos 10 anos (2012 - 2022) (Tópico 2.1 do TCC)\n",
        "df_importacao = df_importacao[df_importacao.CO_ANO >= 2012]\n",
        "\n",
        "# Filtrando as 20 NCM mais importadas em valor FOB (Topico 2.1 do TCC)\n",
        "df = df_importacao.groupby(['CO_NCM']).sum().sort_values(by=['VL_FOB'],ascending=False)\n",
        "fob_total = df.VL_FOB.sum()\n",
        "df = df.iloc[:20,:][['VL_FOB']]\n",
        "df.reset_index(inplace=True)\n",
        "df_importacao = df_importacao[df_importacao.CO_NCM.isin(df.CO_NCM)]"
      ],
      "metadata": {
        "id": "54eK4iGaTk7v"
      },
      "execution_count": null,
      "outputs": [],
      "id": "54eK4iGaTk7v"
    },
    {
      "cell_type": "code",
      "source": [
        "# Percentual que essas NCM representam no valor FOB (Tópico 2.1 do TCC)\n",
        "maiores_ncm = df.iloc[:20,:]\n",
        "fob_maiores_ncm = maiores_ncm.VL_FOB.sum()\n",
        "perc_ncm = fob_maiores_ncm/fob_total\n",
        "print(f'O percentual que essas NCM representam no valor FOB é de {perc_ncm:.1%}')"
      ],
      "metadata": {
        "id": "XXPm4V8GUXGG",
        "colab": {
          "base_uri": "https://localhost:8080/"
        },
        "outputId": "f30bfaf2-4dd0-4f4c-8a1a-f22696bc7252"
      },
      "id": "XXPm4V8GUXGG",
      "execution_count": null,
      "outputs": [
        {
          "output_type": "stream",
          "name": "stdout",
          "text": [
            "O percentual que essas NCM representam no valor FOB é de 25.5%\n"
          ]
        }
      ]
    },
    {
      "cell_type": "code",
      "source": [
        "# Informações do dataset df_importacao após filtragem do escopo (Tópico 2.1 do TCC)\n",
        "df_importacao.info()"
      ],
      "metadata": {
        "outputId": "12ed9802-d8e5-4ec0-d605-89110cf79616",
        "colab": {
          "base_uri": "https://localhost:8080/"
        },
        "id": "XrhQ5xrvTk7v"
      },
      "execution_count": null,
      "outputs": [
        {
          "output_type": "stream",
          "name": "stdout",
          "text": [
            "<class 'pandas.core.frame.DataFrame'>\n",
            "Int64Index: 117814 entries, 17700319 to 36389722\n",
            "Data columns (total 13 columns):\n",
            " #   Column      Non-Null Count   Dtype \n",
            "---  ------      --------------   ----- \n",
            " 0   CO_ANO      117814 non-null  int64 \n",
            " 1   CO_MES      117814 non-null  int64 \n",
            " 2   CO_NCM      117814 non-null  int64 \n",
            " 3   CO_UNID     117814 non-null  int64 \n",
            " 4   CO_PAIS     117814 non-null  int64 \n",
            " 5   SG_UF_NCM   117814 non-null  object\n",
            " 6   CO_VIA      117814 non-null  int64 \n",
            " 7   CO_URF      117814 non-null  int64 \n",
            " 8   QT_ESTAT    117814 non-null  int64 \n",
            " 9   KG_LIQUIDO  117814 non-null  int64 \n",
            " 10  VL_FOB      117814 non-null  int64 \n",
            " 11  VL_FRETE    117814 non-null  int64 \n",
            " 12  VL_SEGURO   117814 non-null  int64 \n",
            "dtypes: int64(12), object(1)\n",
            "memory usage: 12.6+ MB\n"
          ]
        }
      ],
      "id": "XrhQ5xrvTk7v"
    },
    {
      "cell_type": "code",
      "source": [
        "# Visualização do cabeçalho do dataset df_importacao (Tópico 2.1 do TCC)\n",
        "df_importacao.head()"
      ],
      "metadata": {
        "outputId": "8eca5a63-1017-4b1e-84f6-64abefa41711",
        "colab": {
          "base_uri": "https://localhost:8080/",
          "height": 206
        },
        "id": "1KNJeVdLTk7v"
      },
      "execution_count": null,
      "outputs": [
        {
          "output_type": "execute_result",
          "data": {
            "text/plain": [
              "          CO_ANO  CO_MES    CO_NCM  CO_UNID  CO_PAIS SG_UF_NCM  CO_VIA  \\\n",
              "17700319    2012       6  85299020       10      351        SP       4   \n",
              "17700372    2012       2  31042090       10      149        GO       1   \n",
              "17700388    2012       8  85299020       10       23        SP       1   \n",
              "17700566    2012      12  84119100       10      149        RJ       4   \n",
              "17700804    2012      11  84119100       10      249        MG       4   \n",
              "\n",
              "          CO_URF  QT_ESTAT  KG_LIQUIDO   VL_FOB  VL_FRETE  VL_SEGURO  \n",
              "17700319  817700        35          35     3252       538          3  \n",
              "17700372  817800   6900000     6900000  3656925    207000       6769  \n",
              "17700388  817800         0           0      167         0          0  \n",
              "17700566  817700       511         511  1280002      5618          0  \n",
              "17700804  817700       200         200   568191      2602          0  "
            ],
            "text/html": [
              "\n",
              "  <div id=\"df-dfc5f1e4-5483-40e3-8f11-0d53cd679323\">\n",
              "    <div class=\"colab-df-container\">\n",
              "      <div>\n",
              "<style scoped>\n",
              "    .dataframe tbody tr th:only-of-type {\n",
              "        vertical-align: middle;\n",
              "    }\n",
              "\n",
              "    .dataframe tbody tr th {\n",
              "        vertical-align: top;\n",
              "    }\n",
              "\n",
              "    .dataframe thead th {\n",
              "        text-align: right;\n",
              "    }\n",
              "</style>\n",
              "<table border=\"1\" class=\"dataframe\">\n",
              "  <thead>\n",
              "    <tr style=\"text-align: right;\">\n",
              "      <th></th>\n",
              "      <th>CO_ANO</th>\n",
              "      <th>CO_MES</th>\n",
              "      <th>CO_NCM</th>\n",
              "      <th>CO_UNID</th>\n",
              "      <th>CO_PAIS</th>\n",
              "      <th>SG_UF_NCM</th>\n",
              "      <th>CO_VIA</th>\n",
              "      <th>CO_URF</th>\n",
              "      <th>QT_ESTAT</th>\n",
              "      <th>KG_LIQUIDO</th>\n",
              "      <th>VL_FOB</th>\n",
              "      <th>VL_FRETE</th>\n",
              "      <th>VL_SEGURO</th>\n",
              "    </tr>\n",
              "  </thead>\n",
              "  <tbody>\n",
              "    <tr>\n",
              "      <th>17700319</th>\n",
              "      <td>2012</td>\n",
              "      <td>6</td>\n",
              "      <td>85299020</td>\n",
              "      <td>10</td>\n",
              "      <td>351</td>\n",
              "      <td>SP</td>\n",
              "      <td>4</td>\n",
              "      <td>817700</td>\n",
              "      <td>35</td>\n",
              "      <td>35</td>\n",
              "      <td>3252</td>\n",
              "      <td>538</td>\n",
              "      <td>3</td>\n",
              "    </tr>\n",
              "    <tr>\n",
              "      <th>17700372</th>\n",
              "      <td>2012</td>\n",
              "      <td>2</td>\n",
              "      <td>31042090</td>\n",
              "      <td>10</td>\n",
              "      <td>149</td>\n",
              "      <td>GO</td>\n",
              "      <td>1</td>\n",
              "      <td>817800</td>\n",
              "      <td>6900000</td>\n",
              "      <td>6900000</td>\n",
              "      <td>3656925</td>\n",
              "      <td>207000</td>\n",
              "      <td>6769</td>\n",
              "    </tr>\n",
              "    <tr>\n",
              "      <th>17700388</th>\n",
              "      <td>2012</td>\n",
              "      <td>8</td>\n",
              "      <td>85299020</td>\n",
              "      <td>10</td>\n",
              "      <td>23</td>\n",
              "      <td>SP</td>\n",
              "      <td>1</td>\n",
              "      <td>817800</td>\n",
              "      <td>0</td>\n",
              "      <td>0</td>\n",
              "      <td>167</td>\n",
              "      <td>0</td>\n",
              "      <td>0</td>\n",
              "    </tr>\n",
              "    <tr>\n",
              "      <th>17700566</th>\n",
              "      <td>2012</td>\n",
              "      <td>12</td>\n",
              "      <td>84119100</td>\n",
              "      <td>10</td>\n",
              "      <td>149</td>\n",
              "      <td>RJ</td>\n",
              "      <td>4</td>\n",
              "      <td>817700</td>\n",
              "      <td>511</td>\n",
              "      <td>511</td>\n",
              "      <td>1280002</td>\n",
              "      <td>5618</td>\n",
              "      <td>0</td>\n",
              "    </tr>\n",
              "    <tr>\n",
              "      <th>17700804</th>\n",
              "      <td>2012</td>\n",
              "      <td>11</td>\n",
              "      <td>84119100</td>\n",
              "      <td>10</td>\n",
              "      <td>249</td>\n",
              "      <td>MG</td>\n",
              "      <td>4</td>\n",
              "      <td>817700</td>\n",
              "      <td>200</td>\n",
              "      <td>200</td>\n",
              "      <td>568191</td>\n",
              "      <td>2602</td>\n",
              "      <td>0</td>\n",
              "    </tr>\n",
              "  </tbody>\n",
              "</table>\n",
              "</div>\n",
              "      <button class=\"colab-df-convert\" onclick=\"convertToInteractive('df-dfc5f1e4-5483-40e3-8f11-0d53cd679323')\"\n",
              "              title=\"Convert this dataframe to an interactive table.\"\n",
              "              style=\"display:none;\">\n",
              "        \n",
              "  <svg xmlns=\"http://www.w3.org/2000/svg\" height=\"24px\"viewBox=\"0 0 24 24\"\n",
              "       width=\"24px\">\n",
              "    <path d=\"M0 0h24v24H0V0z\" fill=\"none\"/>\n",
              "    <path d=\"M18.56 5.44l.94 2.06.94-2.06 2.06-.94-2.06-.94-.94-2.06-.94 2.06-2.06.94zm-11 1L8.5 8.5l.94-2.06 2.06-.94-2.06-.94L8.5 2.5l-.94 2.06-2.06.94zm10 10l.94 2.06.94-2.06 2.06-.94-2.06-.94-.94-2.06-.94 2.06-2.06.94z\"/><path d=\"M17.41 7.96l-1.37-1.37c-.4-.4-.92-.59-1.43-.59-.52 0-1.04.2-1.43.59L10.3 9.45l-7.72 7.72c-.78.78-.78 2.05 0 2.83L4 21.41c.39.39.9.59 1.41.59.51 0 1.02-.2 1.41-.59l7.78-7.78 2.81-2.81c.8-.78.8-2.07 0-2.86zM5.41 20L4 18.59l7.72-7.72 1.47 1.35L5.41 20z\"/>\n",
              "  </svg>\n",
              "      </button>\n",
              "      \n",
              "  <style>\n",
              "    .colab-df-container {\n",
              "      display:flex;\n",
              "      flex-wrap:wrap;\n",
              "      gap: 12px;\n",
              "    }\n",
              "\n",
              "    .colab-df-convert {\n",
              "      background-color: #E8F0FE;\n",
              "      border: none;\n",
              "      border-radius: 50%;\n",
              "      cursor: pointer;\n",
              "      display: none;\n",
              "      fill: #1967D2;\n",
              "      height: 32px;\n",
              "      padding: 0 0 0 0;\n",
              "      width: 32px;\n",
              "    }\n",
              "\n",
              "    .colab-df-convert:hover {\n",
              "      background-color: #E2EBFA;\n",
              "      box-shadow: 0px 1px 2px rgba(60, 64, 67, 0.3), 0px 1px 3px 1px rgba(60, 64, 67, 0.15);\n",
              "      fill: #174EA6;\n",
              "    }\n",
              "\n",
              "    [theme=dark] .colab-df-convert {\n",
              "      background-color: #3B4455;\n",
              "      fill: #D2E3FC;\n",
              "    }\n",
              "\n",
              "    [theme=dark] .colab-df-convert:hover {\n",
              "      background-color: #434B5C;\n",
              "      box-shadow: 0px 1px 3px 1px rgba(0, 0, 0, 0.15);\n",
              "      filter: drop-shadow(0px 1px 2px rgba(0, 0, 0, 0.3));\n",
              "      fill: #FFFFFF;\n",
              "    }\n",
              "  </style>\n",
              "\n",
              "      <script>\n",
              "        const buttonEl =\n",
              "          document.querySelector('#df-dfc5f1e4-5483-40e3-8f11-0d53cd679323 button.colab-df-convert');\n",
              "        buttonEl.style.display =\n",
              "          google.colab.kernel.accessAllowed ? 'block' : 'none';\n",
              "\n",
              "        async function convertToInteractive(key) {\n",
              "          const element = document.querySelector('#df-dfc5f1e4-5483-40e3-8f11-0d53cd679323');\n",
              "          const dataTable =\n",
              "            await google.colab.kernel.invokeFunction('convertToInteractive',\n",
              "                                                     [key], {});\n",
              "          if (!dataTable) return;\n",
              "\n",
              "          const docLinkHtml = 'Like what you see? Visit the ' +\n",
              "            '<a target=\"_blank\" href=https://colab.research.google.com/notebooks/data_table.ipynb>data table notebook</a>'\n",
              "            + ' to learn more about interactive tables.';\n",
              "          element.innerHTML = '';\n",
              "          dataTable['output_type'] = 'display_data';\n",
              "          await google.colab.output.renderOutput(dataTable, element);\n",
              "          const docLink = document.createElement('div');\n",
              "          docLink.innerHTML = docLinkHtml;\n",
              "          element.appendChild(docLink);\n",
              "        }\n",
              "      </script>\n",
              "    </div>\n",
              "  </div>\n",
              "  "
            ]
          },
          "metadata": {},
          "execution_count": 11
        }
      ],
      "id": "1KNJeVdLTk7v"
    },
    {
      "cell_type": "markdown",
      "metadata": {
        "id": "Le8mxkH5VMK7"
      },
      "source": [
        "### Tabelas auxiliares\n",
        "---\n",
        "Link: [Tabela Códigos](https://balanca.economia.gov.br/balanca/bd/tabelas/TABELAS_AUXILIARES.xlsx)\n",
        "\n",
        "Indice Excel usado\n",
        "* 1 (NO_NCM_POR): Descrição NCM\n",
        "* 10 (CO_PAIS): País de origem do produto\n",
        "* 14 (CO_VIA): Meio de transporte da mercadoria\n",
        "* 15 (CO_URF): Local de chegada no Brasil da mercadoria\n"
      ],
      "id": "Le8mxkH5VMK7"
    },
    {
      "cell_type": "code",
      "execution_count": null,
      "metadata": {
        "id": "s0rbpGmTVMK7"
      },
      "outputs": [],
      "source": [
        "# Coletando os dados auxiliares das importações Brasileiras e carregando nos datasets df_ncm, df_pais, df_via e df_urf (Tópico 2 do TCC)\n",
        "\n",
        "\n",
        "#url = \"https://github.com/Migliorin/Comex_Data_Analysis/blob/main/datasets/TABELAS_AUXILIARES.xlsx?raw=true\"\n",
        "#xl_file = pd.ExcelFile(url)\n",
        "\n",
        "xl_file = pd.ExcelFile('/content/TABELAS_AUXILIARES.xlsx')\n",
        "df_ncm = xl_file.parse('1')\n",
        "df_pais = xl_file.parse('10')\n",
        "df_via = xl_file.parse('14')\n",
        "df_urf = xl_file.parse('15')"
      ],
      "id": "s0rbpGmTVMK7"
    },
    {
      "cell_type": "code",
      "execution_count": null,
      "metadata": {
        "id": "Yt_a0ljjXK4h"
      },
      "outputs": [],
      "source": [
        "# Informações do dataset df_ncm (Tópico 2.2.1 do TCC)\n",
        "df_ncm.info()"
      ],
      "id": "Yt_a0ljjXK4h"
    },
    {
      "cell_type": "code",
      "execution_count": null,
      "metadata": {
        "id": "J4fE-jEwW9Ur"
      },
      "outputs": [],
      "source": [
        "# Informações do dataset df_pais (Tópico 2.2.2 do TCC)\n",
        "df_pais.info()"
      ],
      "id": "J4fE-jEwW9Ur"
    },
    {
      "cell_type": "code",
      "execution_count": null,
      "metadata": {
        "id": "oCdy9BBsW9Ut"
      },
      "outputs": [],
      "source": [
        "# Informações do dataset df_via (Tópico 2.2.3 do TCC)\n",
        "df_via.info()"
      ],
      "id": "oCdy9BBsW9Ut"
    },
    {
      "cell_type": "code",
      "execution_count": null,
      "metadata": {
        "id": "FfmiGG46W9Ut"
      },
      "outputs": [],
      "source": [
        "# Informações do dataset df_urf (Tópico 2.2.4 do TCC)\n",
        "df_urf.info()"
      ],
      "id": "FfmiGG46W9Ut"
    },
    {
      "cell_type": "markdown",
      "metadata": {
        "id": "dNYJBC_GVulO"
      },
      "source": [
        "### Substituição código\n",
        "---\n"
      ],
      "id": "dNYJBC_GVulO"
    },
    {
      "cell_type": "code",
      "execution_count": null,
      "metadata": {
        "id": "TyhbJKy0VulP"
      },
      "outputs": [],
      "source": [
        "# Substituição dos códigos das variáveis pelos nomes constantes nos datasets auxiliares para melhor entendimento do dataset (Tópico 2.2.5 do TCC)\n",
        "\n",
        "# Unindo os datasets auxiliares com o df_importacao \n",
        "df_importacao = df_importacao.merge(df_ncm[['CO_NCM','NO_NCM_POR']],on='CO_NCM')\n",
        "df_importacao = df_importacao.merge(df_pais[['CO_PAIS','NO_PAIS']],on='CO_PAIS')\n",
        "df_importacao = df_importacao.merge(df_urf[['CO_URF','NO_URF']],on='CO_URF')\n",
        "df_importacao = df_importacao.merge(df_via[['CO_VIA','NO_VIA']],on='CO_VIA')\n",
        "\n",
        "# Criando a coluna NCM, concatenando o código e o nome da NCM \n",
        "df_importacao[\"NCM\"] = df_importacao[\"CO_NCM\"].map(str) + \" - \" + df_importacao[\"NO_NCM_POR\"]\n",
        "\n",
        "# Apagando as colunas dos códigos que foram utilizadas na união e o nome da NCM\n",
        "df_importacao.drop(['CO_NCM','CO_PAIS','CO_URF','CO_VIA', 'NO_NCM_POR'],axis=1,inplace=True)\n",
        "\n",
        "# Reordenando as colunas para melhor visualização\n",
        "df_importacao = df_importacao[['CO_ANO','CO_MES','NCM','CO_UNID','NO_PAIS','SG_UF_NCM','NO_VIA','NO_URF','QT_ESTAT','KG_LIQUIDO','VL_FOB','VL_SEGURO','VL_FRETE']]"
      ],
      "id": "TyhbJKy0VulP"
    },
    {
      "cell_type": "code",
      "execution_count": null,
      "metadata": {
        "id": "qXmWoWAEVulP"
      },
      "outputs": [],
      "source": [
        "# Visualização do cabeçalho do dataset df_importacao após as substituições (Tópico 2.2.5 do TCC)\n",
        "df_importacao.head()"
      ],
      "id": "qXmWoWAEVulP"
    },
    {
      "cell_type": "markdown",
      "metadata": {
        "id": "JRlHFT6eVulP"
      },
      "source": [
        "### Dolar Série Histórica\n",
        "---\n",
        "Link: [Dolar Serie Historica](https://www.cepea.esalq.usp.br/br/serie-de-preco/dolar.aspx)"
      ],
      "id": "JRlHFT6eVulP"
    },
    {
      "cell_type": "code",
      "source": [
        "# Coletando os dados históricos das cotaões do Dolar Americano e carregando no dataset df_dolar (Tópico 2 do TCC)\n",
        "\n",
        "\n",
        "#df_dolar = pd.read_csv(\"/content/drive/Shareddrives/TCC Daniel dados/export_series_dolar.csv\",sep=';')\n",
        "\n",
        "\n",
        "df_dolar = pd.read_csv(\"/content/export_series_dolar.csv\",sep=';')"
      ],
      "metadata": {
        "id": "54xcJs7OVulP"
      },
      "execution_count": null,
      "outputs": [],
      "id": "54xcJs7OVulP"
    },
    {
      "cell_type": "code",
      "source": [
        "# Informações do dataset df_urf (Tópico 2.3 do TCC)\n",
        "df_dolar.info()"
      ],
      "metadata": {
        "id": "Y4o9Ww92epKe"
      },
      "id": "Y4o9Ww92epKe",
      "execution_count": null,
      "outputs": []
    },
    {
      "cell_type": "code",
      "execution_count": null,
      "metadata": {
        "scrolled": true,
        "id": "Yua6rJ6zVulP"
      },
      "outputs": [],
      "source": [
        "# Tratando os dados do df_dolar para que possam expressar as cotações médias mensais do dólar a cada mês no período do escopo do trabalho (Tópico 3.3 do TCC)\n",
        "\n",
        "# Criando as colunas ano, mes e COTACAO a partir da coluna do dataset df_dolar \n",
        "df_dolar[\"ano\"] = df_dolar[\"Data da serie,DOLAR COMERCIAL ATUALIZADO AS 16H30\"].apply(lambda x: str(x)[6:10])\n",
        "df_dolar[\"mes\"] = df_dolar[\"Data da serie,DOLAR COMERCIAL ATUALIZADO AS 16H30\"].apply(lambda x: str(x)[3:5])\n",
        "df_dolar[\"COTACAO\"] = df_dolar[\"Data da serie,DOLAR COMERCIAL ATUALIZADO AS 16H30\"].apply(lambda x: str(x)[11:])\n",
        "\n",
        "# Apagando a coluna inicial do dataset df_dolar\n",
        "df_dolar.drop(['Data da serie,DOLAR COMERCIAL ATUALIZADO AS 16H30'],axis=1,inplace=True)\n",
        "\n",
        "# Substituindo a vírgula por ponto na string que representa a cotação e tirando as aspas\n",
        "df_dolar[\"COTACAO\"] = df_dolar[\"COTACAO\"].str.replace(',','.').str.replace('\"','')\n",
        "\n",
        "# Alterando os tipos das colunas ano, mes e COTACAO\n",
        "df_dolar[\"ano\"] = df_dolar[\"ano\"].astype(int)\n",
        "df_dolar[\"mes\"] = df_dolar[\"mes\"].astype(int)\n",
        "df_dolar[\"COTACAO\"] = df_dolar[\"COTACAO\"].astype(float)\n",
        "\n",
        "# Filtrando dados dos últimos 10 anos (2012 - 2022)\n",
        "df_dolar = df_dolar[df_dolar.ano >= 2012]\n",
        "\n",
        "# Agrupando os valores por mês e ano utilizando a média das cotações \n",
        "df_dolar = df_dolar.groupby(['ano','mes']).mean()\n",
        "df_dolar.reset_index(inplace=True)\n",
        "\n",
        "# Informações do dataset df_dolar após as transformações\n",
        "df_dolar.info()"
      ],
      "id": "Yua6rJ6zVulP"
    },
    {
      "cell_type": "markdown",
      "source": [
        "## Verificação de dados nulos e registros duplicados dos datasets df_importacao e auxiliares"
      ],
      "metadata": {
        "id": "zkyAjXo-UpL5"
      },
      "id": "zkyAjXo-UpL5"
    },
    {
      "cell_type": "code",
      "source": [
        "# Verificação de missing values no df_importacao (Tópico 3.1 do TCC)\n",
        "df_importacao.isnull().sum()"
      ],
      "metadata": {
        "id": "wp3TAmVQNK4G"
      },
      "id": "wp3TAmVQNK4G",
      "execution_count": null,
      "outputs": []
    },
    {
      "cell_type": "code",
      "source": [
        "# Verificação de registros duplicados no df_importacao (Tópico 3.1 do TCC)\n",
        "df_importacao.duplicated().sum()"
      ],
      "metadata": {
        "id": "uhtbxgPvN8qe"
      },
      "id": "uhtbxgPvN8qe",
      "execution_count": null,
      "outputs": []
    },
    {
      "cell_type": "code",
      "source": [
        "# Verificação de missing values no df_pais (Tópico 3.2 do TCC)\n",
        "df_pais.isnull().sum()"
      ],
      "metadata": {
        "id": "ZHralNHaxnjl"
      },
      "execution_count": null,
      "outputs": [],
      "id": "ZHralNHaxnjl"
    },
    {
      "cell_type": "code",
      "source": [
        "# Verificação de registros duplicados no df_pais (Tópico 3.2 do TCC)\n",
        "df_pais.duplicated().sum()"
      ],
      "metadata": {
        "id": "s_huuhJbxnjl"
      },
      "execution_count": null,
      "outputs": [],
      "id": "s_huuhJbxnjl"
    },
    {
      "cell_type": "code",
      "source": [
        "# Verificação de missing values no df_ncm (Tópico 3.2 do TCC)\n",
        "df_ncm.isnull().sum()"
      ],
      "metadata": {
        "id": "AEHMkqfzxnjm"
      },
      "execution_count": null,
      "outputs": [],
      "id": "AEHMkqfzxnjm"
    },
    {
      "cell_type": "code",
      "source": [
        "# Verificação de registros duplicados no df_ncm (Tópico 3.2 do TCC)\n",
        "df_ncm.duplicated().sum()"
      ],
      "metadata": {
        "id": "OkTu07bzxnjm"
      },
      "execution_count": null,
      "outputs": [],
      "id": "OkTu07bzxnjm"
    },
    {
      "cell_type": "code",
      "source": [
        "# Verificação de missing values no df_via (Tópico 3.2 do TCC)\n",
        "df_via.isnull().sum()"
      ],
      "metadata": {
        "id": "nUWaJALMxnjm"
      },
      "execution_count": null,
      "outputs": [],
      "id": "nUWaJALMxnjm"
    },
    {
      "cell_type": "code",
      "source": [
        "# Verificação de registros duplicados no df_via (Tópico 3.2 do TCC)\n",
        "df_via.duplicated().sum()"
      ],
      "metadata": {
        "id": "ISO2epesxnjm"
      },
      "execution_count": null,
      "outputs": [],
      "id": "ISO2epesxnjm"
    },
    {
      "cell_type": "code",
      "source": [
        "# Verificação de missing values no df_urf (Tópico 3.2 do TCC)\n",
        "df_urf.isnull().sum()"
      ],
      "metadata": {
        "id": "SJktMGUHxnjm"
      },
      "execution_count": null,
      "outputs": [],
      "id": "SJktMGUHxnjm"
    },
    {
      "cell_type": "code",
      "source": [
        "# Verificação de registros duplicados no df_urf (Tópico 3.2 do TCC)\n",
        "df_urf.duplicated().sum()"
      ],
      "metadata": {
        "id": "ypzt9yVmxnjn"
      },
      "execution_count": null,
      "outputs": [],
      "id": "ypzt9yVmxnjn"
    },
    {
      "cell_type": "code",
      "source": [
        "# Verificação de missing values no df_dolar (Tópico 3.3 do TCC)\n",
        "df_dolar.isnull().sum()"
      ],
      "metadata": {
        "id": "JDNZrlMapiy_"
      },
      "execution_count": null,
      "outputs": [],
      "id": "JDNZrlMapiy_"
    },
    {
      "cell_type": "code",
      "source": [
        "# Verificação de registros duplicados no df_dolar (Tópico 3.3 do TCC)\n",
        "df_dolar.duplicated().sum()"
      ],
      "metadata": {
        "id": "_Aa_bJv_pizC"
      },
      "execution_count": null,
      "outputs": [],
      "id": "_Aa_bJv_pizC"
    },
    {
      "cell_type": "markdown",
      "metadata": {
        "id": "FhOL3seIrbjd"
      },
      "source": [
        "### Unindo Datasets - Dolar e Importações\n",
        "---\n"
      ],
      "id": "FhOL3seIrbjd"
    },
    {
      "cell_type": "code",
      "execution_count": null,
      "metadata": {
        "id": "UnJsx-FZrbjd"
      },
      "outputs": [],
      "source": [
        "# Unindo os datasets df_importacao e df_dolar pelos valores do ano e do mês e carregando em um novo dataset df_total (Tópico 3.4 do TCC)\n",
        "\n",
        "# Unindo os datasets df_importacao e df_dolar\n",
        "df_total = df_importacao.merge(df_dolar,left_on=['CO_ANO','CO_MES'],right_on=['ano','mes'])\n",
        "\n",
        "# Apagando as colunas repetidas\n",
        "df_total.drop(['ano','mes'],axis=1,inplace=True)\n",
        "\n",
        "# Reordenando as colunas para melhor visualização\n",
        "df_total = df_total[['CO_ANO','CO_MES','NCM','CO_UNID','NO_PAIS','SG_UF_NCM','NO_VIA','NO_URF','QT_ESTAT','KG_LIQUIDO','COTACAO','VL_FOB','VL_SEGURO','VL_FRETE']]\n",
        "\n",
        "# Informações de linhas e colunas do dataset df_total\n",
        "df_total.info()"
      ],
      "id": "UnJsx-FZrbjd"
    },
    {
      "cell_type": "markdown",
      "source": [
        "### Verificação de dados nulos e registros duplicados do dataset df_total"
      ],
      "metadata": {
        "id": "Wj7m_444pzjC"
      },
      "id": "Wj7m_444pzjC"
    },
    {
      "cell_type": "code",
      "source": [
        "# Verificação de missing values no df_total (Tópico 3.4 do TCC)\n",
        "df_total.isnull().sum()"
      ],
      "metadata": {
        "id": "6Ss3ohjgpx-H"
      },
      "execution_count": null,
      "outputs": [],
      "id": "6Ss3ohjgpx-H"
    },
    {
      "cell_type": "code",
      "source": [
        "# Verificação de registros duplicados no df_total (Tópico 3.4 do TCC)\n",
        "df_total.duplicated().sum()"
      ],
      "metadata": {
        "id": "fTlY5LKcpx-H"
      },
      "execution_count": null,
      "outputs": [],
      "id": "fTlY5LKcpx-H"
    },
    {
      "cell_type": "markdown",
      "source": [
        "### Verificação de valores iguais a zero no dataset df_total"
      ],
      "metadata": {
        "id": "osoZ-T-w8XYF"
      },
      "id": "osoZ-T-w8XYF"
    },
    {
      "cell_type": "code",
      "source": [
        "# Verificando os registro que contém o valor 0 nas variáveis numéricas e mostrando a quantidade absoluta e percentual desses registros para cada variável (Tópico 3.5 do TCC)\n",
        "\n",
        "# Verificando o total de linhas do dataset df_total\n",
        "quant_total = len(df_total.index)\n",
        "\n",
        "# Contando a quantidades de zeros de cada coluna e verificando o percentual correspondente em relação ao total de registros do df_total\n",
        "df_contador = (df_total[['QT_ESTAT','KG_LIQUIDO','COTACAO','VL_FOB','VL_SEGURO','VL_FRETE']] == 0).sum()\n",
        "df_contador = pd.DataFrame({'Coluna':df_contador.index, 'Quantidade':df_contador.values})\n",
        "df_contador['porcentagem'] = df_contador.Quantidade.apply(lambda x: x/quant_total)\n",
        "df_contador"
      ],
      "metadata": {
        "id": "diyKcyTC8ttU"
      },
      "execution_count": null,
      "outputs": [],
      "id": "diyKcyTC8ttU"
    },
    {
      "cell_type": "code",
      "source": [
        "# Plotando a quantidade percentual de zeros de cada coluna do df_total em um gráfico (Tópico 3.5 do TCC)\n",
        "fig, ax =plt.subplots(figsize=(6,7))\n",
        "sns.barplot(x=df_contador.Coluna, y = df_contador.Quantidade)\n",
        "plt.title(\"Quantidade de Zeros por coluna\", fontsize=18)\n",
        "for i,p in enumerate(ax.patches):\n",
        "    ax.annotate('{:.2f}%'.format((df_contador.porcentagem[i])*100), \n",
        "                   (p.get_x() + p.get_width() / 2., p.get_height()), \n",
        "                   ha = 'center', va = 'center', \n",
        "                   xytext = (0, 9), \n",
        "                   textcoords = 'offset points')\n",
        "plt.xticks(rotation=45)\n",
        "plt.show()"
      ],
      "metadata": {
        "id": "IOcHArQj9n3h"
      },
      "execution_count": null,
      "outputs": [],
      "id": "IOcHArQj9n3h"
    },
    {
      "cell_type": "code",
      "source": [
        "# Substituindo os valroes 0 por 1 nas colunas QT_ESTAT, KG_LIQUIDO e VL_FOB no df_total (Tópico 3.5 do TCC)\n",
        "df_total['QT_ESTAT'] = df_total[['QT_ESTAT']].replace(0,1)\n",
        "df_total['KG_LIQUIDO'] = df_total[['KG_LIQUIDO']].replace(0,1)\n",
        "df_total['VL_FOB'] = df_total[['VL_FOB']].replace(0,1)"
      ],
      "metadata": {
        "id": "PWf14H0RBPAI"
      },
      "id": "PWf14H0RBPAI",
      "execution_count": null,
      "outputs": []
    },
    {
      "cell_type": "markdown",
      "metadata": {
        "id": "FrsDDQ8_9Ylx"
      },
      "source": [
        "## Análise e Exploração dos Dados\n",
        "---\n"
      ],
      "id": "FrsDDQ8_9Ylx"
    },
    {
      "cell_type": "markdown",
      "metadata": {
        "id": "8JTzXNP3pWJe"
      },
      "source": [
        "### Análise das NCM importadas\n",
        "-----\n"
      ],
      "id": "8JTzXNP3pWJe"
    },
    {
      "cell_type": "code",
      "source": [
        "# Calculando os valores totais absolutos e percentuais das NCM pertencentes ao escopo no valor FOB total de importações (Tópico 4.1.1 do TCC)\n",
        "\n",
        "# Agrupando o valor FOB total por NCM\n",
        "df = df_total.groupby(['NCM']).sum().sort_values(by=['VL_FOB'],ascending=False)\n",
        "df = df[['VL_FOB']]\n",
        "\n",
        "# Criando coluna que indica o percentual de participação de cada NCM no valor FOB total\n",
        "fob_total = df.VL_FOB.sum()\n",
        "df['porcentagem'] = df.VL_FOB.apply(lambda x: x/fob_total)\n",
        "df.reset_index(inplace=True)\n",
        "\n",
        "# Criando coluna extraindo somente o código da NCM com 8 dígitos\n",
        "df[\"CO_NCM\"] = df[\"NCM\"].apply(lambda x: str(x)[:8])"
      ],
      "metadata": {
        "id": "XkxNNkwFqCSq"
      },
      "id": "XkxNNkwFqCSq",
      "execution_count": null,
      "outputs": []
    },
    {
      "cell_type": "code",
      "source": [
        "# Visualização gráfica dos percentuais de participação das NCM pertencentes ao escopo no valor FOB total de importações (Tópico 4.1.1 do TCC)\n",
        "\n",
        "sns.set_theme(style=\"darkgrid\")\n",
        "\n",
        "# Inicializacao figura matplotlib\n",
        "f, ax = plt.subplots(figsize=(15, 12))\n",
        "bar = sns.barplot(x=list(df.VL_FOB)[:], y=list(df.CO_NCM)[:],\n",
        "            label=\"Total\", color=\"b\")\n",
        "\n",
        "  \n",
        "for i,p in enumerate(ax.patches):\n",
        "    ax.annotate('{:.1f}%'.format((df.porcentagem[i])*100), \n",
        "                   (p.get_width() + p.get_x(), p.get_y()), \n",
        "                   ha = 'center', va = 'center', \n",
        "                   xytext = (20, -12), \n",
        "                   textcoords = 'offset points')\n",
        "\n",
        "    \n",
        "ax.set_title(\"NCM mais importadas pelo Brasil, em FOB (U$)\")\n",
        "plt.show()"
      ],
      "metadata": {
        "id": "_Z5tPnuMptr8"
      },
      "execution_count": null,
      "outputs": [],
      "id": "_Z5tPnuMptr8"
    },
    {
      "cell_type": "code",
      "source": [
        "# Criando dataset, a partir do df_total, com as colunas da NCM e do valor do frete (Tópico 4.1.1 do TCC)\n",
        "df_dist_ncm = df_total[['NCM','VL_FRETE']]\n",
        "df_dist_ncm[\"CO_NCM\"] = df_dist_ncm[\"NCM\"].apply(lambda x: str(x)[:8])"
      ],
      "metadata": {
        "id": "j1RY5_1n2l8x"
      },
      "id": "j1RY5_1n2l8x",
      "execution_count": null,
      "outputs": []
    },
    {
      "cell_type": "code",
      "source": [
        "# Plotando gráfico de distribuição stripplot do valor do frete por cada NCM (Tópico 4.1.1 do TCC)\n",
        "fig, ax1 = plt.subplots(sharey=False, figsize=(20,10))\n",
        "plt.title(\"Frete por NCM\")\n",
        "sns.stripplot(x='CO_NCM', y='VL_FRETE', data=df_dist_ncm, ax=ax1)\n",
        "plt.xticks(rotation=45)\n",
        "plt.show()"
      ],
      "metadata": {
        "id": "VkYSHu1TpWJf"
      },
      "execution_count": null,
      "outputs": [],
      "id": "VkYSHu1TpWJf"
    },
    {
      "cell_type": "code",
      "source": [
        "# Plotando gráfico de distribuição boxplot do valor do frete por cada NCM (Tópico 4.1.1 do TCC)\n",
        "fig, ax2 = plt.subplots(sharey=False, figsize=(20,10))\n",
        "plt.title(\"Frete por NCM\")\n",
        "sns.boxplot(x='CO_NCM', y='VL_FRETE', data=df_dist_ncm, showfliers = False, ax=ax2)\n",
        "plt.xticks(rotation=45)\n",
        "plt.show()\n",
        "#plt.savefig('imagens/tipoCE2.png',bbox_inches='tight')"
      ],
      "metadata": {
        "id": "0s_H2mvbpWJf"
      },
      "execution_count": null,
      "outputs": [],
      "id": "0s_H2mvbpWJf"
    },
    {
      "cell_type": "markdown",
      "metadata": {
        "id": "K5jcXnuxF8nc"
      },
      "source": [
        "### Análise das Unidades Estatísticas"
      ],
      "id": "K5jcXnuxF8nc"
    },
    {
      "cell_type": "code",
      "source": [
        "# Criando dataset, a partir do df_total, com as colunas da NCM e código da unidade estatística (Tópico 4.1.2 do TCC)\n",
        "df_unidest = df_total[['NCM','CO_UNID']]\n",
        "df_unidest[\"NCM\"] = df_unidest[\"NCM\"].apply(lambda x: str(x)[:8])"
      ],
      "metadata": {
        "id": "PmgLOPd2G1cH"
      },
      "id": "PmgLOPd2G1cH",
      "execution_count": null,
      "outputs": []
    },
    {
      "cell_type": "code",
      "source": [
        "# Plotando gráfico de distribuição stripplot da unidade estatística por cada NCM (Tópico 4.1.2 do TCC)\n",
        "fig, ax = plt.subplots(sharey=False, figsize=(20,10))\n",
        "plt.title(\"Unidadde Estatística por NCM\")\n",
        "sns.stripplot(x='NCM', y='CO_UNID', data=df_unidest)\n",
        "plt.xticks(rotation=30)\n",
        "plt.show()"
      ],
      "metadata": {
        "id": "qTnogF3ie6-M"
      },
      "execution_count": null,
      "outputs": [],
      "id": "qTnogF3ie6-M"
    },
    {
      "cell_type": "code",
      "source": [
        "# Contando a quantidade absoluta e percentual que cada unidade estatística aparece no df_total (Tópico 4.1.2 do TCC)\n",
        "df_contador = df_unidest['CO_UNID'].value_counts()\n",
        "df_contador = pd.DataFrame({'CO_UNID':df_contador.index, 'Quantidade':df_contador.values})\n",
        "df_contador['porcentagem'] = df_contador.Quantidade.apply(lambda x: x/quant_total)*100\n",
        "df_contador"
      ],
      "metadata": {
        "id": "3hjv81RqEg_f"
      },
      "id": "3hjv81RqEg_f",
      "execution_count": null,
      "outputs": []
    },
    {
      "cell_type": "code",
      "source": [
        "# Removendo as colunas CO_UNID e QT_ESTAT do df_total (Tópico 4.1.2 do TCC)\n",
        "df_total.drop(['CO_UNID','QT_ESTAT'],axis=1,inplace=True)"
      ],
      "metadata": {
        "id": "RLW5ybIsdhr_"
      },
      "id": "RLW5ybIsdhr_",
      "execution_count": null,
      "outputs": []
    },
    {
      "cell_type": "markdown",
      "metadata": {
        "id": "V1NoPJN2ICu3"
      },
      "source": [
        "### Análise dos Países Exportadores\n",
        "-----\n"
      ],
      "id": "V1NoPJN2ICu3"
    },
    {
      "cell_type": "code",
      "source": [
        "# Verificando a quantidade de países distintos que aparecem no dataset df_total (Tópico 4.1.3 do TCC)\n",
        "qt_paises = df_total[['NO_PAIS']].nunique()\n",
        "qt_paises"
      ],
      "metadata": {
        "id": "Asweefzf-uVP"
      },
      "id": "Asweefzf-uVP",
      "execution_count": null,
      "outputs": []
    },
    {
      "cell_type": "code",
      "source": [
        "# Calculando os valores totais absolutos e percentuais dos países exportadores no valor FOB total de importações (Tópico 4.1.3 do TCC)\n",
        "\n",
        "# Agrupando o valor FOB total por país exportador\n",
        "df = df_total.groupby(['NO_PAIS']).sum().sort_values(by=['VL_FOB'],ascending=False)\n",
        "df = df[['VL_FOB']]\n",
        "\n",
        "# Criando coluna que indica o percentual de participação de cada país exportador no valor FOB total\n",
        "fob_total = df.VL_FOB.sum()\n",
        "df['porcentagem'] = df.VL_FOB.apply(lambda x: x/fob_total)\n",
        "df.reset_index(inplace=True)"
      ],
      "metadata": {
        "id": "K48NqBjSRhKz"
      },
      "id": "K48NqBjSRhKz",
      "execution_count": null,
      "outputs": []
    },
    {
      "cell_type": "code",
      "source": [
        "# Verificando o percentual que os países selecionados representam do valor FOB total (Tópico 4.1.3 do TCC)\n",
        "fob_total = df.VL_FOB.sum()\n",
        "maiores_paises = df.iloc[:37,:]\n",
        "fob_maiores_paises = maiores_paises.VL_FOB.sum()\n",
        "perc_paises = fob_maiores_paises/fob_total\n",
        "print(f'O percentual que esses países representam no valor FOB é de {perc_paises:.1%}')"
      ],
      "metadata": {
        "id": "U3lAVF3WEEbQ"
      },
      "execution_count": null,
      "outputs": [],
      "id": "U3lAVF3WEEbQ"
    },
    {
      "cell_type": "code",
      "source": [
        "# Substituindo os países que não pertencem ao conjunto de países que correspondem a 95% do valor FOB do total de importações pelo valor 'OUTROS' (Tópico 4.1.3 do TCC)\n",
        "\n",
        "df_total.NO_PAIS = df_total.NO_PAIS.apply(lambda x : 'OUTROS' if x not in list(maiores_paises.NO_PAIS) else x)"
      ],
      "metadata": {
        "id": "8XEMBUNMXL0Y"
      },
      "id": "8XEMBUNMXL0Y",
      "execution_count": null,
      "outputs": []
    },
    {
      "cell_type": "code",
      "source": [
        "# Visualização gráfica dos percentuais de participação dos países exportadores no valor FOB total de importações (Tópico 4.1.3 do TCC)\n",
        "\n",
        "df = df_total.groupby(['NO_PAIS']).sum().sort_values(by=['VL_FOB'],ascending=False)\n",
        "df = df[['VL_FOB']]\n",
        "fob_total = df.VL_FOB.sum()\n",
        "df['porcentagem'] = df.VL_FOB.apply(lambda x: x/fob_total)\n",
        "df.reset_index(inplace=True)\n",
        "\n",
        "fig, ax =plt.subplots(figsize=(20,35))\n",
        "sns.barplot(y=df['NO_PAIS'], x = df['VL_FOB'])\n",
        "plt.title(\"País Exportador\", fontsize=18)\n",
        "\n",
        "for i,p in enumerate(ax.patches):\n",
        "    ax.annotate('{:.1f}%'.format((df.porcentagem[i])*100), \n",
        "                   (p.get_width() + p.get_x(), p.get_y()), \n",
        "                   ha = 'center', va = 'center', \n",
        "                   xytext = (20, -15), \n",
        "                   textcoords = 'offset points')\n",
        "\n",
        "\n",
        "plt.xticks(rotation=45)\n",
        "plt.show()"
      ],
      "metadata": {
        "id": "D-oq2bfniQdt"
      },
      "execution_count": null,
      "outputs": [],
      "id": "D-oq2bfniQdt"
    },
    {
      "cell_type": "code",
      "source": [
        "# Plotando gráfico de distribuição stripplot do valor do frete por cada país exportador (Tópico 4.1.3 do TCC)\n",
        "fig, ax1 = plt.subplots(sharey=False, figsize=(20,35))\n",
        "plt.title(\"Frete por Unidade Estatística\")\n",
        "sns.stripplot(y='NO_PAIS', x='VL_FRETE', data=df_total, ax=ax1)\n",
        "plt.show()"
      ],
      "metadata": {
        "id": "rKJWpMnxiQdu"
      },
      "execution_count": null,
      "outputs": [],
      "id": "rKJWpMnxiQdu"
    },
    {
      "cell_type": "code",
      "source": [
        "# Plotando gráfico de distribuição boxplot do valor do frete por cada país exportador (Tópico 4.1.3 do TCC)\n",
        "fig, ax2 = plt.subplots(sharey=False, figsize=(20,35))\n",
        "plt.title(\"Frete por Unidade Estatística\")\n",
        "sns.boxplot(y='NO_PAIS', x='VL_FRETE', data=df_total, showfliers = False, ax=ax2)\n",
        "plt.show()"
      ],
      "metadata": {
        "id": "KOmMew5NGSGf"
      },
      "execution_count": null,
      "outputs": [],
      "id": "KOmMew5NGSGf"
    },
    {
      "cell_type": "markdown",
      "metadata": {
        "id": "PlxFjY_PByoa"
      },
      "source": [
        "### Análise dos Estados de Destino das Mercadorias\n",
        "-----\n"
      ],
      "id": "PlxFjY_PByoa"
    },
    {
      "cell_type": "code",
      "source": [
        "# Verificando a quantidade de estados de destino distintos que aparecem no dataset df_total (Tópico 4.1.4 do TCC)\n",
        "qt_uf = df_total[['SG_UF_NCM']].nunique()\n",
        "qt_uf"
      ],
      "metadata": {
        "id": "5LHOoHvdM5Hu"
      },
      "execution_count": null,
      "outputs": [],
      "id": "5LHOoHvdM5Hu"
    },
    {
      "cell_type": "code",
      "source": [
        "# Calculando os valores totais absolutos e percentuais dos estados de destino no valor FOB total de importações (Tópico 4.1.4 do TCC)\n",
        "\n",
        "# Agrupando o valor FOB total por estado de destino\n",
        "df = df_total.groupby(['SG_UF_NCM']).sum().sort_values(by=['VL_FOB'],ascending=False)\n",
        "df = df[['VL_FOB']]\n",
        "\n",
        "# Criando coluna que indica o percentual de participação de cada estado de destino no valor FOB total\n",
        "fob_total = df.VL_FOB.sum()\n",
        "df['porcentagem'] = df.VL_FOB.apply(lambda x: x/fob_total)\n",
        "df.reset_index(inplace=True)\n"
      ],
      "metadata": {
        "id": "DXom2D_VByoa"
      },
      "execution_count": null,
      "outputs": [],
      "id": "DXom2D_VByoa"
    },
    {
      "cell_type": "code",
      "source": [
        "# Verificando o percentual que os estados de destino selecionados representam do valor FOB total (Tópico 4.1.4 do TCC)\n",
        "fob_total = df.VL_FOB.sum()\n",
        "maiores_destinos = df.iloc[:15,:]\n",
        "fob_maiores_destinos = maiores_destinos.VL_FOB.sum()\n",
        "perc_destinos = fob_maiores_destinos/fob_total\n",
        "print(f'O percentual que esses destinos representam no valor FOB é de {perc_destinos:.1%}')"
      ],
      "metadata": {
        "id": "7MYpZNtrImff"
      },
      "execution_count": null,
      "outputs": [],
      "id": "7MYpZNtrImff"
    },
    {
      "cell_type": "code",
      "source": [
        "# Substituindo os estados de destino que não pertencem ao conjunto de estados de destino que correspondem a 95% do valor FOB do total de importações pelo valor 'OUTROS' (Tópico 4.1.4 do TCC)\n",
        "df_total.SG_UF_NCM = df_total.SG_UF_NCM.apply(lambda x : 'OUTROS' if x not in list(maiores_destinos.SG_UF_NCM) else x)"
      ],
      "metadata": {
        "id": "szkjed_vByob"
      },
      "execution_count": null,
      "outputs": [],
      "id": "szkjed_vByob"
    },
    {
      "cell_type": "code",
      "source": [
        "# Visualização gráfica dos percentuais de participação dos estados de destino no valor FOB total de importações (Tópico 4.1.4 do TCC)\n",
        "df = df_total.groupby(['SG_UF_NCM']).sum().sort_values(by=['VL_FOB'],ascending=False)\n",
        "df = df[['VL_FOB']]\n",
        "fob_total = df.VL_FOB.sum()\n",
        "df['porcentagem'] = df.VL_FOB.apply(lambda x: x/fob_total)\n",
        "df.reset_index(inplace=True)\n",
        "\n",
        "fig, ax =plt.subplots(figsize=(20,6))\n",
        "sns.barplot(x=df['SG_UF_NCM'], y = df['VL_FOB'])\n",
        "plt.title(\"Estado de Destino\", fontsize=18)\n",
        "for i,p in enumerate(ax.patches):\n",
        "   ax.annotate('{:.1f}%'.format((df.porcentagem[i])*100), \n",
        "                   (p.get_x() + p.get_width() / 2., p.get_height()), \n",
        "                  ha = 'center', va = 'center', \n",
        "                  xytext = (0, 9), \n",
        "                   textcoords = 'offset points')\n",
        "plt.show()"
      ],
      "metadata": {
        "id": "UVYYA70kKXJm"
      },
      "execution_count": null,
      "outputs": [],
      "id": "UVYYA70kKXJm"
    },
    {
      "cell_type": "code",
      "source": [
        "# Plotando gráfico de distribuição stripplot do valor do frete por cada estado de destino (Tópico 4.1.4 do TCC)\n",
        "fig, ax1 = plt.subplots(sharey=False, figsize=(20,10))\n",
        "plt.title(\"Frete por Estado de Destino\")\n",
        "sns.stripplot(x='SG_UF_NCM', y='VL_FRETE', data=df_total, ax=ax1)\n",
        "plt.show()\n"
      ],
      "metadata": {
        "id": "WgSsBgfTKXJn"
      },
      "execution_count": null,
      "outputs": [],
      "id": "WgSsBgfTKXJn"
    },
    {
      "cell_type": "code",
      "source": [
        "# Plotando gráfico de distribuição boxplot do valor do frete por cada estado de destino (Tópico 4.1.4 do TCC)\n",
        "fig, ax2 = plt.subplots(sharey=False, figsize=(20,10))\n",
        "plt.title(\"Frete por Estado de Destino\")\n",
        "sns.boxplot(x='SG_UF_NCM', y='VL_FRETE', data=df_total, showfliers = False, ax=ax2)\n",
        "plt.show()"
      ],
      "metadata": {
        "id": "Pg600KV1KXJn"
      },
      "execution_count": null,
      "outputs": [],
      "id": "Pg600KV1KXJn"
    },
    {
      "cell_type": "markdown",
      "metadata": {
        "id": "7pEAbb3o7rYx"
      },
      "source": [
        "### Análise da Via de Transporte\n",
        "-----\n"
      ],
      "id": "7pEAbb3o7rYx"
    },
    {
      "cell_type": "code",
      "source": [
        "# Verificando a quantidade de vias de transporte distintas que aparecem no dataset df_total (Tópico 4.1.5 do TCC)\n",
        "qt_via = df_total[['NO_VIA']].nunique()\n",
        "qt_via"
      ],
      "metadata": {
        "id": "4o4b2zcBXVkX"
      },
      "execution_count": null,
      "outputs": [],
      "id": "4o4b2zcBXVkX"
    },
    {
      "cell_type": "code",
      "source": [
        "# Calculando os valores totais absolutos e percentuais das vias de transporte no valor FOB total de importações (Tópico 4.1.5 do TCC)\n",
        "df = df_total.groupby(['NO_VIA']).sum().sort_values(by=['VL_FOB'],ascending=False)\n",
        "df = df[['VL_FOB']]\n",
        "fob_total = df.VL_FOB.sum()\n",
        "df['porcentagem'] = df.VL_FOB.apply(lambda x: x/fob_total)\n",
        "df.reset_index(inplace=True)\n"
      ],
      "metadata": {
        "id": "-SFwr8Sq7rYx"
      },
      "execution_count": null,
      "outputs": [],
      "id": "-SFwr8Sq7rYx"
    },
    {
      "cell_type": "code",
      "source": [
        "# Verificando o percentual que as vias de transporte selecionadas representam do valor FOB total (Tópico 4.1.5 do TCC)\n",
        "fob_total = df.VL_FOB.sum()\n",
        "maiores_vias = df.iloc[:3,:]\n",
        "fob_maiores_vias = maiores_vias.VL_FOB.sum()\n",
        "perc_vias = fob_maiores_vias/fob_total\n",
        "print(f'O percentual que essas vias de transporte representam no valor FOB é de {perc_vias:.1%}')"
      ],
      "metadata": {
        "id": "rUdXqps4LHR6"
      },
      "execution_count": null,
      "outputs": [],
      "id": "rUdXqps4LHR6"
    },
    {
      "cell_type": "code",
      "source": [
        "# Substituindo as vias que não pertencem ao conjunto de vias de transporte que correspondem a 95% do valor FOB do total de importações pelo valor 'OUTROS' (Tópico 4.1.5 do TCC)\n",
        "df_total.NO_VIA = df_total.NO_VIA.apply(lambda x : 'OUTROS' if x not in list(maiores_vias.NO_VIA) else x)"
      ],
      "metadata": {
        "id": "BG7vvrv_7rYy"
      },
      "execution_count": null,
      "outputs": [],
      "id": "BG7vvrv_7rYy"
    },
    {
      "cell_type": "code",
      "source": [
        "# Visualização gráfica dos percentuais de participação das vias de trasnporte no valor FOB total de importações (Tópico 4.1.5 do TCC)\n",
        "df = df_total.groupby(['NO_VIA']).sum().sort_values(by=['VL_FOB'],ascending=False)\n",
        "df = df[['VL_FOB']]\n",
        "fob_total = df.VL_FOB.sum()\n",
        "df['porcentagem'] = df.VL_FOB.apply(lambda x: x/fob_total)\n",
        "df.reset_index(inplace=True)\n",
        "\n",
        "fig, ax =plt.subplots(figsize=(10,8))\n",
        "sns.barplot(x=df['NO_VIA'], y = df['VL_FOB'])\n",
        "plt.title(\"Via de Transporte\", fontsize=18)\n",
        "for i,p in enumerate(ax.patches):\n",
        "    ax.annotate('{:.1f}%'.format((df.porcentagem[i])*100), \n",
        "                   (p.get_x() + p.get_width() / 2., p.get_height()), \n",
        "                   ha = 'center', va = 'center', \n",
        "                   xytext = (0, 9), \n",
        "                   textcoords = 'offset points')\n",
        "plt.xticks(rotation=45)\n",
        "plt.show()"
      ],
      "metadata": {
        "id": "ambNcDb3MUx1"
      },
      "execution_count": null,
      "outputs": [],
      "id": "ambNcDb3MUx1"
    },
    {
      "cell_type": "code",
      "source": [
        "# Plotando gráfico de distribuição stripplot do valor do frete por cada via de transporte (Tópico 4.1.5 do TCC)\n",
        "fig, ax1 = plt.subplots(sharey=False, figsize=(10,8))\n",
        "plt.title(\"Frete por Via de Transporte\")\n",
        "sns.stripplot(x='NO_VIA', y='VL_FRETE', data=df_total, ax=ax1)\n",
        "plt.xticks(rotation=45)\n",
        "plt.show()"
      ],
      "metadata": {
        "id": "pdnjlHIAMUx2"
      },
      "execution_count": null,
      "outputs": [],
      "id": "pdnjlHIAMUx2"
    },
    {
      "cell_type": "code",
      "source": [
        "# Plotando gráfico de distribuição boxplot do valor do frete por cada via de transporte (Tópico 4.1.5 do TCC)\n",
        "fig, ax2 = plt.subplots(sharey=False, figsize=(10,8))\n",
        "plt.title(\"Frete por Via de Transporte\")\n",
        "sns.boxplot(x='NO_VIA', y='VL_FRETE', data=df_total, showfliers = False, ax=ax2)\n",
        "plt.xticks(rotation=45)\n",
        "plt.show()"
      ],
      "metadata": {
        "id": "zsp2qY7lMUx2"
      },
      "execution_count": null,
      "outputs": [],
      "id": "zsp2qY7lMUx2"
    },
    {
      "cell_type": "markdown",
      "metadata": {
        "id": "dKCMBmyHMogM"
      },
      "source": [
        "### Análise da URF de Desembaraço\n"
      ],
      "id": "dKCMBmyHMogM"
    },
    {
      "cell_type": "code",
      "source": [
        "# Verificando a quantidade de unidades de desembaraço distintas que aparecem no dataset df_total (Tópico 4.1.6 do TCC)\n",
        "qt_urf = df_total[['NO_URF']].nunique()\n",
        "qt_urf"
      ],
      "metadata": {
        "id": "qyKGzXbFZMTO"
      },
      "execution_count": null,
      "outputs": [],
      "id": "qyKGzXbFZMTO"
    },
    {
      "cell_type": "code",
      "source": [
        "# Calculando os valores totais absolutos e percentuais das unidades de desembaraço no valor FOB total de importações (Tópico 4.1.6 do TCC)\n",
        "df = df_total.groupby(['NO_URF']).sum().sort_values(by=['VL_FOB'],ascending=False)\n",
        "df = df[['VL_FOB']]\n",
        "fob_total = df.VL_FOB.sum()\n",
        "df['porcentagem'] = df.VL_FOB.apply(lambda x: x/fob_total)\n",
        "df.reset_index(inplace=True)"
      ],
      "metadata": {
        "id": "V3fuzhBRMogM"
      },
      "execution_count": null,
      "outputs": [],
      "id": "V3fuzhBRMogM"
    },
    {
      "cell_type": "code",
      "source": [
        "# Verificando o percentual que as unidades de desembaraço selecionadas representam do valor FOB total (Tópico 4.1.6 do TCC)\n",
        "fob_total = df.VL_FOB.sum()\n",
        "maiores_urf = df.iloc[:30,:]\n",
        "fob_maiores_urf = maiores_urf.VL_FOB.sum()\n",
        "perc_urf = fob_maiores_urf/fob_total\n",
        "print(f'O percentual que essas unidades representam no valor FOB é de {perc_urf:.1%}')"
      ],
      "metadata": {
        "id": "AG08xqppN1bb"
      },
      "execution_count": null,
      "outputs": [],
      "id": "AG08xqppN1bb"
    },
    {
      "cell_type": "code",
      "source": [
        "# Substituindo as unidades que não pertencem ao conjunto de unidades de desembaraço que correspondem a 95% do valor FOB do total de importações pelo valor 'OUTROS' (Tópico 4.1.6 do TCC)\n",
        "df_total.NO_URF = df_total.NO_URF.apply(lambda x : 'OUTROS' if x not in list(maiores_urf.NO_URF) else x)"
      ],
      "metadata": {
        "id": "s5TR0_qqMogN"
      },
      "execution_count": null,
      "outputs": [],
      "id": "s5TR0_qqMogN"
    },
    {
      "cell_type": "code",
      "source": [
        "# Visualização gráfica dos percentuais de participação das unidades de desembaraço no valor FOB total de importações (Tópico 4.1.6 do TCC)\n",
        "df = df_total.groupby(['NO_URF']).sum().sort_values(by=['VL_FOB'],ascending=False)\n",
        "df = df[['VL_FOB']]\n",
        "fob_total = df.VL_FOB.sum()\n",
        "df['porcentagem'] = df.VL_FOB.apply(lambda x: x/fob_total)\n",
        "df.reset_index(inplace=True)\n",
        "\n",
        "fig, ax =plt.subplots(figsize=(20,30))\n",
        "sns.barplot(y=df['NO_URF'], x = df['VL_FOB'])\n",
        "plt.title(\"Unidade de Desembaraço\", fontsize=18)\n",
        "for i,p in enumerate(ax.patches):\n",
        "    ax.annotate('{:.1f}%'.format((df.porcentagem[i])*100), \n",
        "                   (p.get_width() + p.get_x(), p.get_y()), \n",
        "                   ha = 'center', va = 'center', \n",
        "                   xytext = (25, -12), \n",
        "                   textcoords = 'offset points')\n",
        "\n",
        "plt.show()"
      ],
      "metadata": {
        "id": "_hAkRSFijnaZ"
      },
      "execution_count": null,
      "outputs": [],
      "id": "_hAkRSFijnaZ"
    },
    {
      "cell_type": "code",
      "source": [
        "# Plotando gráfico de distribuição stripplot do valor do frete por cada unidade de desembaraço (Tópico 4.1.6 do TCC)\n",
        "fig, ax1 = plt.subplots(sharey=False, figsize=(20,30))\n",
        "plt.title(\"Frete por URF de desembaraço\")\n",
        "sns.stripplot(y='NO_URF', x='VL_FRETE', data=df_total, ax=ax1)\n",
        "plt.show()"
      ],
      "metadata": {
        "id": "EMx6oQvkjnaZ"
      },
      "execution_count": null,
      "outputs": [],
      "id": "EMx6oQvkjnaZ"
    },
    {
      "cell_type": "code",
      "source": [
        "# Plotando gráfico de distribuição boxplot do valor do frete por cada unidade de desembaraço (Tópico 4.1.6 do TCC)\n",
        "fig, ax2 = plt.subplots(sharey=False, figsize=(20,30))\n",
        "plt.title(\"Frete por URF de desembaraço\")\n",
        "sns.boxplot(y='NO_URF', x='VL_FRETE', data=df_total, showfliers = False, ax=ax2)\n",
        "plt.show()"
      ],
      "metadata": {
        "id": "1qYeA82djnaZ"
      },
      "execution_count": null,
      "outputs": [],
      "id": "1qYeA82djnaZ"
    },
    {
      "cell_type": "markdown",
      "metadata": {
        "id": "X7k0vpL_hXDe"
      },
      "source": [
        "### Análise Variáveis quantitativas\n"
      ],
      "id": "X7k0vpL_hXDe"
    },
    {
      "cell_type": "code",
      "source": [
        "# Plotagem do gráfico scatterplot para verificar a correlação entre as variáveis VL_FRETE e KG_LIQUIDO (Tópico 4.2 do TCC)\n",
        "sns.scatterplot(x='VL_FRETE', y='KG_LIQUIDO', data=df_total)"
      ],
      "metadata": {
        "id": "BV7Sk5O0EFm1"
      },
      "id": "BV7Sk5O0EFm1",
      "execution_count": null,
      "outputs": []
    },
    {
      "cell_type": "code",
      "source": [
        "# Plotagem do gráfico scatterplot para verificar a correlação entre as variáveis VL_FRETE e COTACAO (Tópico 4.2 do TCC)\n",
        "sns.scatterplot(x='VL_FRETE', y='COTACAO', data=df_total)"
      ],
      "metadata": {
        "id": "288nwgX2FQUZ"
      },
      "execution_count": null,
      "outputs": [],
      "id": "288nwgX2FQUZ"
    },
    {
      "cell_type": "code",
      "source": [
        "# Plotagem do gráfico scatterplot para verificar a correlação entre as variáveis VL_FRETE e VL_FOB (Tópico 4.2 do TCC)\n",
        "sns.scatterplot(x='VL_FRETE', y='VL_FOB', data=df_total)"
      ],
      "metadata": {
        "id": "1aryuLocFmEY"
      },
      "execution_count": null,
      "outputs": [],
      "id": "1aryuLocFmEY"
    },
    {
      "cell_type": "code",
      "source": [
        "# Plotagem do gráfico scatterplot para verificar a correlação entre as variáveis VL_FRETE e VL_SEGURO (Tópico 4.2 do TCC)\n",
        "sns.scatterplot(x='VL_FRETE', y='VL_SEGURO', data=df_total)"
      ],
      "metadata": {
        "id": "gQfFbFxOFq7o"
      },
      "execution_count": null,
      "outputs": [],
      "id": "gQfFbFxOFq7o"
    },
    {
      "cell_type": "code",
      "source": [
        "# Plotagem do gráfico heatmap para verificar as correlações entre as variáveis quantitativas (Tópico 4.2 do TCC)\n",
        "df_quantitativas = df_total[['KG_LIQUIDO','COTACAO','VL_FOB','VL_SEGURO','VL_FRETE']]\n",
        "\n",
        "with sns.axes_style(\"white\"):\n",
        "\n",
        "    f, ax = plt.subplots(figsize=(15, 10))\n",
        "\n",
        "    ax = sns.heatmap(df_quantitativas.corr(),annot=True)"
      ],
      "metadata": {
        "id": "-IW6cgmndeCr"
      },
      "id": "-IW6cgmndeCr",
      "execution_count": null,
      "outputs": []
    },
    {
      "cell_type": "code",
      "source": [
        "# Calculo dos valores totais, a cada ano, das variáveis 'KG_LIQUIDO', 'VL_FOB', 'VL_SEGURO' e 'VL_FRETE' excluindo o ano de 2022 por conter somente o mês de janeiro (Tópico 4.2 do TCC)\n",
        "df_quantmensal = df_total[['CO_ANO','KG_LIQUIDO','VL_FOB','VL_SEGURO','VL_FRETE']]\n",
        "df_quantmensal = df_quantmensal.groupby(['CO_ANO']).sum()\n",
        "df_quantmensal.reset_index(inplace=True)\n",
        "df_quantmensal = df_quantmensal[df_quantmensal.CO_ANO < 2022]\n",
        "df_quantmensal.head()"
      ],
      "metadata": {
        "id": "gLA6_5rGhlX4"
      },
      "id": "gLA6_5rGhlX4",
      "execution_count": null,
      "outputs": []
    },
    {
      "cell_type": "code",
      "source": [
        "# Gráfico dos valores totais, a cada ano, das variáveis 'KG_LIQUIDO', 'VL_FOB', 'VL_SEGURO' e 'VL_FRETE' (Tópico 4.2 do TCC)\n",
        "sns.set_theme(style=\"darkgrid\")\n",
        "\n",
        "f, ax = plt.subplots(figsize=(10, 5))\n",
        "ax.set_title(\"Total VL_FRETE 2012 - 2021\")\n",
        "plt.plot(df_quantmensal.CO_ANO,df_quantmensal.KG_LIQUIDO)\n",
        "plt.plot(df_quantmensal.CO_ANO,df_quantmensal.VL_FOB)\n",
        "plt.plot(df_quantmensal.CO_ANO,df_quantmensal.VL_SEGURO)\n",
        "plt.plot(df_quantmensal.CO_ANO,df_quantmensal.VL_FRETE)\n",
        "plt.legend(['KG_LIQUIDO','VL_FOB','VL_SEGURO','VL_FRETE'], fontsize=14)\n",
        "plt.show()"
      ],
      "metadata": {
        "id": "vhtKUOH-cCfn"
      },
      "execution_count": null,
      "outputs": [],
      "id": "vhtKUOH-cCfn"
    },
    {
      "cell_type": "code",
      "source": [
        "# Gráfico dos valores totais, a cada ano, da variável 'KG_LIQUIDO' (Tópico 4.2 do TCC)\n",
        "sns.set_theme(style=\"darkgrid\")\n",
        "\n",
        "f, ax = plt.subplots(figsize=(15, 6))\n",
        "ax.set_title(\"Total KG_LIQUIDO 2012 - 2021\")\n",
        "plt.plot(df_quantmensal.CO_ANO,df_quantmensal.KG_LIQUIDO)\n",
        "plt.show()"
      ],
      "metadata": {
        "id": "E6TRhkglPbjg"
      },
      "id": "E6TRhkglPbjg",
      "execution_count": null,
      "outputs": []
    },
    {
      "cell_type": "code",
      "source": [
        "# Gráfico dos valores totais, a cada ano, da variável 'VL_FOB' (Tópico 4.2 do TCC)\n",
        "sns.set_theme(style=\"darkgrid\")\n",
        "\n",
        "f, ax = plt.subplots(figsize=(15, 6))\n",
        "ax.set_title(\"Total VL_FOB 2012 - 2021\")\n",
        "plt.plot(df_quantmensal.CO_ANO,df_quantmensal.VL_FOB)\n",
        "plt.show()"
      ],
      "metadata": {
        "id": "2vPcwTK3Pb2P"
      },
      "id": "2vPcwTK3Pb2P",
      "execution_count": null,
      "outputs": []
    },
    {
      "cell_type": "code",
      "source": [
        "# Gráfico dos valores totais, a cada ano, da variável 'VL_SEGURO' (Tópico 4.2 do TCC)\n",
        "sns.set_theme(style=\"darkgrid\")\n",
        "\n",
        "f, ax = plt.subplots(figsize=(15, 6))\n",
        "ax.set_title(\"Total VL_SEGURO 2012 - 2021\")\n",
        "plt.plot(df_quantmensal.CO_ANO,df_quantmensal.VL_SEGURO)\n",
        "plt.show()"
      ],
      "metadata": {
        "id": "YqHFbw7HPb8P"
      },
      "id": "YqHFbw7HPb8P",
      "execution_count": null,
      "outputs": []
    },
    {
      "cell_type": "code",
      "source": [
        "# Gráfico dos valores totais, a cada ano, da variável 'VL_FRETE' (Tópico 4.2 do TCC)\n",
        "sns.set_theme(style=\"darkgrid\")\n",
        "\n",
        "f, ax = plt.subplots(figsize=(15, 6))\n",
        "ax.set_title(\"Total VL_FRETE 2012 - 2021\")\n",
        "plt.plot(df_quantmensal.CO_ANO,df_quantmensal.VL_FRETE)\n",
        "plt.show()"
      ],
      "metadata": {
        "id": "xBnx8YnMKCNi"
      },
      "execution_count": null,
      "outputs": [],
      "id": "xBnx8YnMKCNi"
    },
    {
      "cell_type": "code",
      "source": [
        "# Gráfico de distribuição boxplot, a cada ano, da variável 'COTACAO' (Tópico 4.2 do TCC)\n",
        "\n",
        "# Configurando tema\n",
        "sns.set_theme(style=\"darkgrid\")\n",
        "\n",
        "# Configurando tamanho da figura\n",
        "fig, ax = plt.subplots(figsize=(20,12))\n",
        "ax.set_title(\"Cotação Dolar 2012 - 2022\")\n",
        "sns.boxplot(x='CO_ANO', y='COTACAO', data=df_total, showfliers = False)\n",
        "ax.set_ylabel(\"Cotação\")\n",
        "ax.set_xlabel(\"Anos\")\n",
        "plt.grid(True)\n",
        "plt.show()"
      ],
      "metadata": {
        "id": "G8PReyN-l5zv"
      },
      "execution_count": null,
      "outputs": [],
      "id": "G8PReyN-l5zv"
    },
    {
      "cell_type": "markdown",
      "metadata": {
        "id": "RG0NHo2jhefr"
      },
      "source": [
        "## Criação dos Modelos de Machine Learning e Análise dos Resultados\n",
        "-----\n"
      ],
      "id": "RG0NHo2jhefr"
    },
    {
      "cell_type": "markdown",
      "id": "qcRBsAAt-s9W",
      "metadata": {
        "id": "qcRBsAAt-s9W"
      },
      "source": [
        "### Preparando o dataset df_final"
      ]
    },
    {
      "cell_type": "code",
      "source": [
        "# Criando uma cópia do dataset df_total, chamada de df_final. Nesse novo dataset, os dados serão transformados em numéricos para que possam ser aplicados os modelos de Machine Learning (Tópico 5 do TCC)\n",
        "df_final = df_total.copy()"
      ],
      "metadata": {
        "id": "REGQ49UOrpDh"
      },
      "id": "REGQ49UOrpDh",
      "execution_count": null,
      "outputs": []
    },
    {
      "cell_type": "code",
      "source": [
        "# Tranformando as variáveis NCM e NO_URF em numéricas (Tópico 5 do TCC)\n",
        "df_final[\"NCM\"] = df_final[\"NCM\"].apply(lambda x: str(x)[:8])\n",
        "df_final[\"NO_URF\"] = df_final[\"NO_URF\"].apply(lambda x: str(x)[:7])\n",
        "df_final[\"NO_URF\"] = df_final[\"NO_URF\"].replace('OUTROS',0)"
      ],
      "metadata": {
        "id": "HQF_Bj0Qm_hv"
      },
      "id": "HQF_Bj0Qm_hv",
      "execution_count": null,
      "outputs": []
    },
    {
      "cell_type": "code",
      "source": [
        "# Criação do dataset auxiliar df_sigla (Tópico 5 do TCC)\n",
        "df_sigla = df_final[['SG_UF_NCM']]\n",
        "df_sigla = df_sigla.drop_duplicates()\n",
        "df_sigla.reset_index(inplace=True)\n",
        "df_sigla.drop(['index'],axis=1,inplace=True)\n",
        "df_sigla.reset_index(inplace=True)\n",
        "df_sigla.at[8,'index']=0\n",
        "df_sigla.at[0,'index']=8\n",
        "df_sigla = df_sigla.sort_values(by='index')\n",
        "df_sigla = df_sigla.rename(columns={\"index\":\"CO_UF_NCM\"})"
      ],
      "metadata": {
        "id": "7fovIlRsSSqN"
      },
      "id": "7fovIlRsSSqN",
      "execution_count": null,
      "outputs": []
    },
    {
      "cell_type": "code",
      "source": [
        "# Substituição dos nomes pelos códigos nas variáveis referentes ao país de exportação, ao estado de destino e à via de transporte. Para a substituição foram utilizados os datasets auxiliares (Tópico 5 do TCC)\n",
        "df_final = df_final.merge(df_pais[['NO_PAIS','CO_PAIS']],on='NO_PAIS', how = 'left')\n",
        "df_final = df_final.merge(df_sigla[['SG_UF_NCM','CO_UF_NCM']],on='SG_UF_NCM',how = 'left')\n",
        "df_final = df_final.merge(df_via[['NO_VIA','CO_VIA']],on='NO_VIA',how = 'left')\n",
        "df_final.fillna(value = 0,  \n",
        "          inplace = True)\n",
        "df_final = df_final[['CO_ANO','CO_MES','NCM','CO_PAIS','CO_UF_NCM','CO_VIA','NO_URF','KG_LIQUIDO','VL_FOB','COTACAO','VL_SEGURO','VL_FRETE']]\n",
        "df_final"
      ],
      "metadata": {
        "id": "z_RtevM_sLxZ"
      },
      "id": "z_RtevM_sLxZ",
      "execution_count": null,
      "outputs": []
    },
    {
      "cell_type": "markdown",
      "metadata": {
        "id": "cXeUmgeRttw-"
      },
      "source": [
        "### Separando dados para treino e teste"
      ],
      "id": "cXeUmgeRttw-"
    },
    {
      "cell_type": "code",
      "execution_count": null,
      "id": "1e195543",
      "metadata": {
        "id": "1e195543"
      },
      "outputs": [],
      "source": [
        "# Separando os dados de treino e de teste do dataset df_final, onde a variável é a VL_FRETE e as preditoras são todas as outras variáveis (Tópico 5 do TCC)\n",
        "from sklearn.model_selection import train_test_split\n",
        "\n",
        "X, y = df_final.drop(['VL_FRETE'],axis=1), df_final.VL_FRETE\n",
        "X_train, X_test, y_train, y_test = train_test_split(X, y, test_size=0.33, random_state=42)"
      ]
    },
    {
      "cell_type": "code",
      "source": [
        "# Gráfico que representa a quantidade de registros nos dados de treino e de teste (Tópico 5 do TCC)\n",
        "\n",
        "# Configurando Tema\n",
        "sns.set_theme(style=\"darkgrid\")\n",
        "\n",
        "# Configurando tamanho da figura\n",
        "fig, ax = plt.subplots(figsize=(5,10))\n",
        "bar = sns.barplot(y=[X_train.shape[0],X_test.shape[0]],x=['Treino','Teste'])\n",
        "\n",
        "for p in bar.patches:\n",
        "    bar.annotate(int(p.get_height()), \n",
        "                   (p.get_x() + p.get_width() / 2., p.get_height()), \n",
        "                   ha = 'center', va = 'center', \n",
        "                   xytext = (0, 9), \n",
        "                   textcoords = 'offset points')\n",
        "    \n",
        "ax.set_title(\"Divisão do Dataset para Treino e Teste\")\n",
        "plt.show()"
      ],
      "metadata": {
        "id": "M1Aj7bxPqTZy"
      },
      "id": "M1Aj7bxPqTZy",
      "execution_count": null,
      "outputs": []
    },
    {
      "cell_type": "markdown",
      "id": "0eb6b2b3",
      "metadata": {
        "id": "0eb6b2b3"
      },
      "source": [
        "## Gráfico de apresentação dos resultados"
      ]
    },
    {
      "cell_type": "code",
      "source": [
        "# Função que plota um gráfico com a progessão aritmética dos valores do conjunto de teste e os valores preditos pelo modelo (Tópico 6 do TCC) \n",
        "\n",
        "def grafico_metricas(clf,X_train, X_test, y_train, y_test):\n",
        " \n",
        "    soma = 0\n",
        "    regr_y_test = []\n",
        "    for val in y_test:\n",
        "        soma += val\n",
        "        regr_y_test.append(soma)\n",
        "\n",
        "    soma = 0\n",
        "    regr_y_predict = []\n",
        "    for val in clf.predict(X_test):\n",
        "        soma += val\n",
        "        regr_y_predict.append(soma)\n",
        "\n",
        "    # Configurando Tema\n",
        "    sns.set_theme(style=\"darkgrid\")\n",
        "\n",
        "    # Configurando grafico\n",
        "    fig, ax = plt.subplots(figsize=(12,12))\n",
        "\n",
        "    plt.plot(range(len(regr_y_test)),regr_y_test,label='Gabarito')\n",
        "\n",
        "    plt.plot(range(len(regr_y_predict)),regr_y_predict,label='Predição')\n",
        "\n",
        "    ax.set_title('Progressão Aritmética Predição e Gabarito')\n",
        "\n",
        "    plt.legend()\n",
        "    plt.show()\n",
        "\n",
        "    return"
      ],
      "metadata": {
        "id": "E94lgEGLqgc0"
      },
      "id": "E94lgEGLqgc0",
      "execution_count": null,
      "outputs": []
    },
    {
      "cell_type": "markdown",
      "metadata": {
        "id": "9MHI6OAFrDez"
      },
      "source": [
        "## Decision Tree"
      ],
      "id": "9MHI6OAFrDez"
    },
    {
      "cell_type": "markdown",
      "source": [
        "### Rodando o modelo com os parâmetros padrões (Tópico 5.1 do TCC)"
      ],
      "metadata": {
        "id": "HhRaV2v2fkBO"
      },
      "id": "HhRaV2v2fkBO"
    },
    {
      "cell_type": "code",
      "source": [
        "# Imports necessários ao modelo\n",
        "from sklearn.tree import DecisionTreeRegressor\n",
        "from sklearn.model_selection import GridSearchCV"
      ],
      "metadata": {
        "id": "HJw2hCQ1hOwV"
      },
      "id": "HJw2hCQ1hOwV",
      "execution_count": null,
      "outputs": []
    },
    {
      "cell_type": "code",
      "source": [
        "tree = DecisionTreeRegressor(random_state=42)"
      ],
      "metadata": {
        "id": "R8GzgG9VxJXH"
      },
      "id": "R8GzgG9VxJXH",
      "execution_count": null,
      "outputs": []
    },
    {
      "cell_type": "code",
      "source": [
        "tree.fit(X_train,y_train)"
      ],
      "metadata": {
        "id": "2Q_WE7AMxKut"
      },
      "id": "2Q_WE7AMxKut",
      "execution_count": null,
      "outputs": []
    },
    {
      "cell_type": "markdown",
      "source": [
        "### Resultados do modelo utilizando os parâmetros padrões (Tópico 6 do TCC)"
      ],
      "metadata": {
        "id": "tEc5MF2egBTf"
      },
      "id": "tEc5MF2egBTf"
    },
    {
      "cell_type": "code",
      "source": [
        "# Cálculo das métricas R2 e MAE, utilizadas para a comparação dos modelos (Tópico 6 do TCC)\n",
        "predict = tree.predict(X_test)\n",
        "r2 = r2_score(y_test, predict)\n",
        "mae = median_absolute_error(y_test, predict)\n",
        "print(f'\\nR2: {r2}\\nMAE: {mae}\\n')"
      ],
      "metadata": {
        "id": "Y319mYvZ4HX7"
      },
      "id": "Y319mYvZ4HX7",
      "execution_count": null,
      "outputs": []
    },
    {
      "cell_type": "code",
      "source": [
        "# Gráfico com a progessão aritmética dos valores do conjunto de teste (gabarito) e os valores preditos pelo modelo Decision Tree com parâmetros padrões (Tópico 6 do TCC) \n",
        "grafico_metricas(tree,X_train, X_test, y_train, y_test)"
      ],
      "metadata": {
        "id": "tlfsFogXmQec"
      },
      "execution_count": null,
      "outputs": [],
      "id": "tlfsFogXmQec"
    },
    {
      "cell_type": "markdown",
      "source": [
        "### Utilizando a biblioteca GridSearchCV para buscar os melhores parâmetros para o modelo (Tópico 5.1 do TCC)"
      ],
      "metadata": {
        "id": "udzMvbqdfrZM"
      },
      "id": "udzMvbqdfrZM"
    },
    {
      "cell_type": "code",
      "source": [
        "tree_hiper = DecisionTreeRegressor(random_state=42)"
      ],
      "metadata": {
        "id": "m0OunZQexkfT"
      },
      "id": "m0OunZQexkfT",
      "execution_count": null,
      "outputs": []
    },
    {
      "cell_type": "code",
      "source": [
        "parametros_tree_hiper = {'max_depth':[1,2,3,4,5,6,7,8,9,10,11,12,13,14,15],\n",
        "                   'min_samples_split':[2,3,4,5,6,7,8,9,10],}"
      ],
      "metadata": {
        "id": "WB1FecWOxpU3"
      },
      "id": "WB1FecWOxpU3",
      "execution_count": null,
      "outputs": []
    },
    {
      "cell_type": "code",
      "source": [
        "grid_tree = GridSearchCV(estimator=tree_hiper, param_grid=parametros_tree_hiper,cv=10,n_jobs=-1)"
      ],
      "metadata": {
        "id": "xK0Aicatx9KK"
      },
      "id": "xK0Aicatx9KK",
      "execution_count": null,
      "outputs": []
    },
    {
      "cell_type": "code",
      "source": [
        "grid_tree.fit(X_train,y_train)"
      ],
      "metadata": {
        "id": "58QFuxC7ysyX"
      },
      "id": "58QFuxC7ysyX",
      "execution_count": null,
      "outputs": []
    },
    {
      "cell_type": "code",
      "source": [
        "grid_tree.best_params_"
      ],
      "metadata": {
        "id": "Ho0IxIesy3Rb"
      },
      "id": "Ho0IxIesy3Rb",
      "execution_count": null,
      "outputs": []
    },
    {
      "cell_type": "markdown",
      "source": [
        "### Resultados do modelo utilizando os parâmetros otimizados (Tópico 6 do TCC)"
      ],
      "metadata": {
        "id": "nCk9g3PggVop"
      },
      "id": "nCk9g3PggVop"
    },
    {
      "cell_type": "code",
      "source": [
        "# Cálculo das métricas R2 e MAE, utilizadas para a comparação dos modelos, utilizando os melhores parâmetros para esse modelo (Tópico 6 do TCC)\n",
        "tree_final = DecisionTreeRegressor(random_state=42,max_depth=15,min_samples_split=10)\n",
        "tree_final.fit(X_train,y_train)\n",
        "\n",
        "predict = tree_final.predict(X_test)\n",
        "r2 = r2_score(y_test, predict)\n",
        "mae = median_absolute_error(y_test, predict)\n",
        "print(f'\\nR2: {r2}\\nMAE: {mae}\\n')"
      ],
      "metadata": {
        "id": "lisz2Qld1F9L"
      },
      "id": "lisz2Qld1F9L",
      "execution_count": null,
      "outputs": []
    },
    {
      "cell_type": "code",
      "source": [
        "# Gráfico com a progessão aritmética dos valores do conjunto de teste (gabarito) e os valores preditos pelo modelo Decision Tree com parâmetros otimizados (Tópico 6 do TCC) \n",
        "grafico_metricas(tree_final,X_train, X_test, y_train, y_test)"
      ],
      "metadata": {
        "id": "nTZy3jzOrHsZ"
      },
      "id": "nTZy3jzOrHsZ",
      "execution_count": null,
      "outputs": []
    },
    {
      "cell_type": "markdown",
      "metadata": {
        "id": "MFVGjNyNfR_B"
      },
      "source": [
        "## K-Neighbors"
      ],
      "id": "MFVGjNyNfR_B"
    },
    {
      "cell_type": "markdown",
      "source": [
        "### Rodando o modelo com os parâmetros padrões (Tópico 5.2 do TCC)"
      ],
      "metadata": {
        "id": "cO0xpQi9glol"
      },
      "id": "cO0xpQi9glol"
    },
    {
      "cell_type": "code",
      "source": [
        "# Imports necessários ao modelo\n",
        "from sklearn.neighbors import KNeighborsRegressor\n",
        "from sklearn.model_selection import GridSearchCV"
      ],
      "metadata": {
        "id": "Z6CsgyM2gr00"
      },
      "execution_count": null,
      "outputs": [],
      "id": "Z6CsgyM2gr00"
    },
    {
      "cell_type": "code",
      "source": [
        "knn = KNeighborsRegressor()"
      ],
      "metadata": {
        "id": "t87mXjF1gr00"
      },
      "execution_count": null,
      "outputs": [],
      "id": "t87mXjF1gr00"
    },
    {
      "cell_type": "code",
      "source": [
        "knn.fit(X_train,y_train)"
      ],
      "metadata": {
        "id": "bXgn7jCdgr00"
      },
      "execution_count": null,
      "outputs": [],
      "id": "bXgn7jCdgr00"
    },
    {
      "cell_type": "markdown",
      "source": [
        "### Resultados do modelo utilizando os parâmetros padrões (Tópico 6 do TCC)"
      ],
      "metadata": {
        "id": "Kszb5-pMglol"
      },
      "id": "Kszb5-pMglol"
    },
    {
      "cell_type": "code",
      "source": [
        "# Cálculo das métricas R2 e MAE, utilizadas para a comparação dos modelos (Tópico 6 do TCC)\n",
        "predict = knn.predict(X_test)\n",
        "r2 = r2_score(y_test, predict)\n",
        "mae = median_absolute_error(y_test, predict)\n",
        "print(f'\\nR2: {r2}\\nMAE: {mae}\\n')"
      ],
      "metadata": {
        "id": "piuSqoFUgvJF"
      },
      "execution_count": null,
      "outputs": [],
      "id": "piuSqoFUgvJF"
    },
    {
      "cell_type": "code",
      "source": [
        "# Gráfico com a progessão aritmética dos valores do conjunto de teste (gabarito) e os valores preditos pelo modelo K-Neighbors com parâmetros padrões (Tópico 6 do TCC) \n",
        "grafico_metricas(knn,X_train, X_test, y_train, y_test)"
      ],
      "metadata": {
        "id": "Xp2m_zcYgvJG"
      },
      "execution_count": null,
      "outputs": [],
      "id": "Xp2m_zcYgvJG"
    },
    {
      "cell_type": "markdown",
      "source": [
        "### Utilizando a biblioteca GridSearchCV para buscar os melhores parâmetros para o modelo (Tópico 5.2 do TCC)"
      ],
      "metadata": {
        "id": "WOn-1l8bglol"
      },
      "id": "WOn-1l8bglol"
    },
    {
      "cell_type": "code",
      "source": [
        "knn_hiper = KNeighborsRegressor()"
      ],
      "metadata": {
        "id": "z-zGG5t_77YY"
      },
      "execution_count": null,
      "outputs": [],
      "id": "z-zGG5t_77YY"
    },
    {
      "cell_type": "code",
      "source": [
        "parametros_knn_hiper = {'n_neighbors':[1,2,3,4,5,6,7,8,9,10,11,12,13,14,15],\n",
        "                   'weights':['uniform','distance'],\n",
        "                   'metric':['euclidean','manhattan']}"
      ],
      "metadata": {
        "id": "Dl48XdXH77YY"
      },
      "execution_count": null,
      "outputs": [],
      "id": "Dl48XdXH77YY"
    },
    {
      "cell_type": "code",
      "source": [
        "grid_knn = GridSearchCV(knn_hiper, parametros_knn_hiper,verbose=1,cv=10,n_jobs=-1)"
      ],
      "metadata": {
        "id": "qrJujuR277YY"
      },
      "execution_count": null,
      "outputs": [],
      "id": "qrJujuR277YY"
    },
    {
      "cell_type": "code",
      "source": [
        "grid_knn.fit(X_train,y_train)"
      ],
      "metadata": {
        "id": "Ac-3U1N577YY"
      },
      "execution_count": null,
      "outputs": [],
      "id": "Ac-3U1N577YY"
    },
    {
      "cell_type": "code",
      "source": [
        "grid_knn.best_params_"
      ],
      "metadata": {
        "id": "SDajw_jG77YY"
      },
      "execution_count": null,
      "outputs": [],
      "id": "SDajw_jG77YY"
    },
    {
      "cell_type": "markdown",
      "source": [
        "### Resultados do modelo utilizando os parâmetros otimizados (Tópico 6 do TCC)"
      ],
      "metadata": {
        "id": "C1tPZGJUg1Z_"
      },
      "id": "C1tPZGJUg1Z_"
    },
    {
      "cell_type": "code",
      "source": [
        "# Cálculo das métricas R2 e MAE, utilizadas para a comparação dos modelos, utilizando os melhores parâmetros para esse modelo (Tópico 6 do TCC)\n",
        "knn_final = KNeighborsRegressor(metric='manhattan',n_neighbors=15, weights='distance')\n",
        "knn_final.fit(X_train,y_train)\n",
        "\n",
        "predict = knn_final.predict(X_test)\n",
        "r2 = r2_score(y_test, predict)\n",
        "mae = median_absolute_error(y_test, predict)\n",
        "print(f'\\nR2: {r2}\\nMAE: {mae}\\n')"
      ],
      "metadata": {
        "id": "iZI2tM5R77YZ"
      },
      "execution_count": null,
      "outputs": [],
      "id": "iZI2tM5R77YZ"
    },
    {
      "cell_type": "code",
      "source": [
        "# Gráfico com a progessão aritmética dos valores do conjunto de teste (gabarito) e os valores preditos pelo modelo K-Neighbors com parâmetros otimizados (Tópico 6 do TCC) \n",
        "grafico_metricas(knn_final,X_train, X_test, y_train, y_test)"
      ],
      "metadata": {
        "id": "gN8oAFfgfXFo"
      },
      "id": "gN8oAFfgfXFo",
      "execution_count": null,
      "outputs": []
    },
    {
      "cell_type": "markdown",
      "metadata": {
        "id": "uZyRnR03fs0W"
      },
      "source": [
        "## Random Forest"
      ],
      "id": "uZyRnR03fs0W"
    },
    {
      "cell_type": "markdown",
      "source": [
        "### Rodando o modelo com os parâmetros padrões (Tópico 5.3 do TCC)"
      ],
      "metadata": {
        "id": "0BQ53CvAg67A"
      },
      "id": "0BQ53CvAg67A"
    },
    {
      "cell_type": "code",
      "source": [
        "# Imports necessários ao modelo\n",
        "from sklearn.ensemble import RandomForestRegressor\n",
        "from sklearn.model_selection import GridSearchCV"
      ],
      "metadata": {
        "id": "Eb0OmFELhALQ"
      },
      "execution_count": null,
      "outputs": [],
      "id": "Eb0OmFELhALQ"
    },
    {
      "cell_type": "code",
      "source": [
        "rfr = RandomForestRegressor(random_state=42)"
      ],
      "metadata": {
        "id": "tYMBCsuThALR"
      },
      "execution_count": null,
      "outputs": [],
      "id": "tYMBCsuThALR"
    },
    {
      "cell_type": "code",
      "source": [
        "rfr.fit(X_train,y_train)"
      ],
      "metadata": {
        "id": "fH2d1qTJhALR"
      },
      "execution_count": null,
      "outputs": [],
      "id": "fH2d1qTJhALR"
    },
    {
      "cell_type": "markdown",
      "source": [
        "### Resultados do modelo utilizando os parâmetros padrões (Tópico 6 do TCC)"
      ],
      "metadata": {
        "id": "_Qg1UR8Qg67A"
      },
      "id": "_Qg1UR8Qg67A"
    },
    {
      "cell_type": "code",
      "source": [
        "# Cálculo das métricas R2 e MAE, utilizadas para a comparação dos modelos (Tópico 6 do TCC)\n",
        "predict = rfr.predict(X_test)\n",
        "r2 = r2_score(y_test, predict)\n",
        "mae = median_absolute_error(y_test, predict)\n",
        "print(f'\\nR2: {r2}\\nMAE: {mae}\\n')"
      ],
      "metadata": {
        "id": "rLA574_khC4u"
      },
      "execution_count": null,
      "outputs": [],
      "id": "rLA574_khC4u"
    },
    {
      "cell_type": "code",
      "source": [
        "# Gráfico com a progessão aritmética dos valores do conjunto de teste (gabarito) e os valores preditos pelo modelo Random Forest com parâmetros padrões (Tópico 6 do TCC) \n",
        "grafico_metricas(rfr,X_train, X_test, y_train, y_test)"
      ],
      "metadata": {
        "id": "csKB3jMQhC4v"
      },
      "execution_count": null,
      "outputs": [],
      "id": "csKB3jMQhC4v"
    },
    {
      "cell_type": "markdown",
      "source": [
        "### Utilizando a biblioteca GridSearchCV para buscar os melhores parâmetros para o modelo (Tópico 5.3 do TCC)"
      ],
      "metadata": {
        "id": "q62-aCEJg67A"
      },
      "id": "q62-aCEJg67A"
    },
    {
      "cell_type": "code",
      "source": [
        "rfr_hiper = RandomForestRegressor(random_state=42)"
      ],
      "metadata": {
        "id": "nk3fjnmBQdwz"
      },
      "execution_count": null,
      "outputs": [],
      "id": "nk3fjnmBQdwz"
    },
    {
      "cell_type": "code",
      "source": [
        "parametros_rfr_hiper = {\n",
        "                    'n_estimators':[100,200],\n",
        "                   'max_features':[None,'auto','log2'],\n",
        "                   'max_depth':[None,1,2,3,4],\n",
        "                   'min_samples_split':[2,3,4,5,6],                   \n",
        "                   'min_samples_leaf':[1,2,3,4],\n",
        "                   'bootstrap':[True,False]\n",
        "                      }"
      ],
      "metadata": {
        "id": "eBg0gcUHQSk3"
      },
      "execution_count": null,
      "outputs": [],
      "id": "eBg0gcUHQSk3"
    },
    {
      "cell_type": "code",
      "source": [
        "grid_rfr = GridSearchCV(rfr_hiper, parametros_rfr_hiper,cv=3,n_jobs=-1)"
      ],
      "metadata": {
        "id": "DxhvonXQs1Gm"
      },
      "execution_count": null,
      "outputs": [],
      "id": "DxhvonXQs1Gm"
    },
    {
      "cell_type": "code",
      "source": [
        "grid_rfr.fit(X_train,y_train)"
      ],
      "metadata": {
        "id": "Q2PW-FfRs1Gm"
      },
      "execution_count": null,
      "outputs": [],
      "id": "Q2PW-FfRs1Gm"
    },
    {
      "cell_type": "code",
      "source": [
        "grid_rfr.best_params_"
      ],
      "metadata": {
        "id": "K474Ieuqs1Gm"
      },
      "execution_count": null,
      "outputs": [],
      "id": "K474Ieuqs1Gm"
    },
    {
      "cell_type": "markdown",
      "source": [
        "### Resultados do modelo utilizando os parâmetros otimizados (Tópico 6 do TCC)"
      ],
      "metadata": {
        "id": "UBJEc_7xhGN4"
      },
      "id": "UBJEc_7xhGN4"
    },
    {
      "cell_type": "code",
      "source": [
        "# Cálculo das métricas R2 e MAE, utilizadas para a comparação dos modelos, utilizando os melhores parâmetros para esse modelo (Tópico 6 do TCC)\n",
        "rfr_final = RandomForestRegressor(random_state=42,bootstrap=False,max_depth=None,max_features='log2',min_samples_leaf=1,min_samples_split=2,n_estimators=100)\n",
        "rfr_final.fit(X_train,y_train)\n",
        "\n",
        "predict = rfr_final.predict(X_test)\n",
        "r2 = r2_score(y_test, predict)\n",
        "mae = median_absolute_error(y_test, predict)\n",
        "print(f'\\nR2: {r2}\\nMAE: {mae}\\n')"
      ],
      "metadata": {
        "id": "K3MfDhSks1Gn"
      },
      "execution_count": null,
      "outputs": [],
      "id": "K3MfDhSks1Gn"
    },
    {
      "cell_type": "code",
      "source": [
        "# Gráfico com a progessão aritmética dos valores do conjunto de teste (gabarito) e os valores preditos pelo modelo Random Forest com parâmetros otimizados (Tópico 6 do TCC) \n",
        "grafico_metricas(rfr_final,X_train, X_test, y_train, y_test)"
      ],
      "metadata": {
        "id": "TiavvzTAs1Gn"
      },
      "execution_count": null,
      "outputs": [],
      "id": "TiavvzTAs1Gn"
    }
  ],
  "metadata": {
    "colab": {
      "collapsed_sections": [
        "d8fd6ed0",
        "8d5b3de4",
        "9c730ba2",
        "2526e8de",
        "7afc0017",
        "c3bcec5e",
        "53728ef3",
        "38816f8e",
        "a29d6e63",
        "ba6634ff"
      ],
      "name": "analise_dados.ipynb",
      "provenance": [],
      "machine_shape": "hm"
    },
    "kernelspec": {
      "display_name": "Python 3 (ipykernel)",
      "language": "python",
      "name": "python3"
    },
    "language_info": {
      "codemirror_mode": {
        "name": "ipython",
        "version": 3
      },
      "file_extension": ".py",
      "mimetype": "text/x-python",
      "name": "python",
      "nbconvert_exporter": "python",
      "pygments_lexer": "ipython3",
      "version": "3.6.13"
    }
  },
  "nbformat": 4,
  "nbformat_minor": 5
}